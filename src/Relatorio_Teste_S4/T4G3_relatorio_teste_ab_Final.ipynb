{
  "nbformat": 4,
  "nbformat_minor": 0,
  "metadata": {
    "colab": {
      "provenance": [],
      "collapsed_sections": [
        "sAPWyZVkL_X2"
      ]
    },
    "kernelspec": {
      "name": "python3",
      "display_name": "Python 3"
    },
    "language_info": {
      "name": "python"
    }
  },
  "cells": [
    {
      "cell_type": "markdown",
      "source": [
        "# Relatório de Teste A/B"
      ],
      "metadata": {
        "id": "JZD0JrgJXYEo"
      }
    },
    {
      "cell_type": "markdown",
      "source": [
        "Nesse relatório, nosso grupo foi além devido a implementação do teste de Fisher, que pode ser visualizado na sessão 6, denominada \"Testes estatísticos\"."
      ],
      "metadata": {
        "id": "zNIaNZsqWskN"
      }
    },
    {
      "cell_type": "markdown",
      "source": [
        "### Sumário"
      ],
      "metadata": {
        "id": "QwOsKrfiWj0_"
      }
    },
    {
      "cell_type": "markdown",
      "source": [
        "1. **Introdução**\n",
        "   - Apresentação do objetivo do relatório e das estratégias propostas para otimizar a taxa de conversão e a qualidade dos leads do WizardOn.\n",
        "\n",
        "2. **Objetivo do Teste**\n",
        "   - Avaliar se a alteração na localização do formulário na página aumenta a taxa de conversão de leads de 5% para 7%.\n",
        "\n",
        "3. **Método**\n",
        "   - Descrição do design do teste A/B, incluindo a definição dos grupos de controle e experimental, as métricas utilizadas e as hipóteses testadas.\n",
        "\n",
        "4. **Teste A/B**\n",
        "   - Detalhamento das alterações realizadas na página e da metodologia de implementação do teste.\n",
        "\n",
        "5. **Preparação dos Dados**\n",
        "   - Descrição dos dados coletados, processos de carregamento e unificação dos dados, e cálculo da taxa de conversão.\n",
        "\n",
        "6. **Descrição dos Dados**\n",
        "   - Estatísticas descritivas das sessões, conversões e taxa de conversão.\n",
        "\n",
        "7. **Testes Estatísticos**\n",
        "   - Apresentação e interpretação dos resultados dos testes t, intervalos de confiança e Teste de Fisher.\n",
        "\n",
        "8. **Análise dos Resultados**\n",
        "   - Visualização gráfica dos resultados e interpretação detalhada dos dados obtidos.\n",
        "\n",
        "9. **Limitações**\n",
        "   - Discussão das limitações do teste realizado, como período curto, amostra pequena e múltiplas mudanças simultâneas.\n",
        "\n",
        "10. **Conclusão**\n",
        "    - Resumo dos achados e recomendações para futuras otimizações da página com base nos resultados obtidos.\n"
      ],
      "metadata": {
        "id": "5mYQymm1UxZP"
      }
    },
    {
      "cell_type": "markdown",
      "source": [
        "## 1. Introdução"
      ],
      "metadata": {
        "id": "SOYjuOHEXYEq"
      }
    },
    {
      "cell_type": "markdown",
      "source": [
        "O documento propõe uma solução focada na otimização da comunicação da modalidade de ensino WizardOn, na estabilização e aumento da taxa de conversão de visitas para leads e na melhoria da qualidade dos leads capturados para a Wizard by Pearson. Isso será alcançado através da análise dos problemas identificados e da implementação de novas estratégias."
      ],
      "metadata": {
        "id": "rEb99GivXYEq"
      }
    },
    {
      "cell_type": "markdown",
      "source": [
        "### 1.1. Objetivo do teste"
      ],
      "metadata": {
        "id": "I_vlqscRXYEq"
      }
    },
    {
      "cell_type": "markdown",
      "source": [
        "O objetivo deste teste A/B é avaliar se a alteração na localização do formulário na página aumenta a taxa de conversão de leads de 5% para 7%, em comparação com a versão atual."
      ],
      "metadata": {
        "id": "b38kHXBaXYEq"
      }
    },
    {
      "cell_type": "markdown",
      "source": [
        "## 2. Método"
      ],
      "metadata": {
        "id": "MZLW1qj9XYEq"
      }
    },
    {
      "cell_type": "markdown",
      "source": [
        "### 2.1. Design do Teste"
      ],
      "metadata": {
        "id": "bjAZlceWXYEr"
      }
    },
    {
      "cell_type": "markdown",
      "source": [
        "O teste será realizado com duas páginas: a página de controle será a própria página da Wizard com a campanha do Dia dos Namorados. A página do grupo experimental terá duas sessões: uma com a campanha do dia dos namorados e outra com uma alteração, que consiste em mover o formulário de interesse da primeira sessão para a segunda, ao lado da explicação sobre o curso."
      ],
      "metadata": {
        "id": "HGXDdgdXXYEr"
      }
    },
    {
      "cell_type": "markdown",
      "source": [
        "### 2.2. Métricas"
      ],
      "metadata": {
        "id": "jAdmEuU0XYEr"
      }
    },
    {
      "cell_type": "markdown",
      "source": [
        "#### 2.2.1 Métrica primária"
      ],
      "metadata": {
        "id": "cc-YA5mUXYEr"
      }
    },
    {
      "cell_type": "markdown",
      "source": [
        "A principal métrica para avaliar o sucesso do teste é a taxa de conversão dos leads. Os dados são extraídos manualmente do HubSpot pela equipe da Wizard e enviados ao orientador da turma, que repassa os novos resultados aos alunos diariamente."
      ],
      "metadata": {
        "id": "VTbKl5L4XYEr"
      }
    },
    {
      "cell_type": "markdown",
      "source": [
        "#### 2.2.2 Métricas secundárias"
      ],
      "metadata": {
        "id": "LehCi8dDXYEr"
      }
    },
    {
      "cell_type": "markdown",
      "source": [
        "A métrica secundária é a taxa de cliques no botão do WhatsApp e Participe. As matrículas dos alunos também podem ser realizadas por esse canal, mas não receberemos imediatamente o número de leads gerados por ele. Portanto, continuaremos monitorando a quantidade de cliques no botão."
      ],
      "metadata": {
        "id": "qRspaV8cXYEs"
      }
    },
    {
      "cell_type": "markdown",
      "source": [
        "### 2.3 Hipóteses Estatísticas"
      ],
      "metadata": {
        "id": "6aSyqMQoXYEs"
      }
    },
    {
      "cell_type": "markdown",
      "source": [
        "#### Primeira Proposta\n",
        "\n",
        "### Hipótese\n",
        "Usuários não percebem o efeito no botão \"Participe\".\n",
        "\n",
        "### Justificativa da Hipótese\n",
        "Ao clicar no botão \"Participe\", o formulário é exibido imediatamente na primeira seção da página, o que pode causar confusão ou a impressão de que o botão não funciona, pois o formulário já está visível.\n",
        "\n",
        "### Proposta B do Teste A/B\n",
        "Ao deslocar o formulário para a segunda sessão da página, os usuários irão perceber melhor o efeito do botão “Participe” e farão mais inscrições pelo formulário\n",
        "\n",
        "### Validação da Hipótese\n",
        "A hipótese será validada se mover o formulário resultar em um aumento no número de cliques no botão \"Participe\" e nas inscrições através do formulário.\n",
        "\n",
        "### Variáveis\n",
        "\n",
        "**Variável Independente:**  \n",
        "A posição do formulário de inscrição (primeira seção vs. segunda seção da página).\n",
        "\n",
        "**Variável Dependente:**  \n",
        "Número de cliques no botão \"Participe\" e número de inscrições no curso através do formulário.\n",
        "\n",
        "### Grupos\n",
        "\n",
        "**Grupo Experimental:**  \n",
        "Usuários que acessam a versão da página onde o formulário está na segunda seção.\n",
        "\n",
        "**Grupo de Controle:**  \n",
        "Usuários que acessam a versão da página onde o formulário permanece na primeira seção."
      ],
      "metadata": {
        "id": "U87nw2WGXYEs"
      }
    },
    {
      "cell_type": "markdown",
      "source": [
        "#### Segunda Proposta\n",
        "\n",
        "### Hipótese\n",
        "Usuários não se inscrevem no formulário pois não possuem informações suficientes sobre o curso.\n",
        "\n",
        "### Justificativa da Hipótese\n",
        "Os usuários podem hesitar em preencher e enviar o formulário de inscrição porque sentem que não possuem informações detalhadas sobre o curso. Sem essas informações, eles podem se sentir inseguros ou não suficientemente motivados para completar a inscrição.\n",
        "\n",
        "### Proposta B do Teste A/B\n",
        "\n",
        "Ao deslocarmos o conteúdo explicativo do curso para o lado do formulário, os usuários irão se inscrever mais.\n",
        "\n",
        "### Validação da Hipótese\n",
        "A hipótese será validada se a adição do conteúdo explicativo do curso ao lado do formulário resultar em um aumento no número de envios de formulários.\n",
        "\n",
        "### Variáveis\n",
        "\n",
        "**Variável Independente:**  \n",
        "A presença de conteúdo explicativo do curso ao lado do formulário (sim ou não).\n",
        "\n",
        "**Variável Dependente:**  \n",
        "Número de envios de formulários de inscrição.\n",
        "\n",
        "### Grupos\n",
        "\n",
        "**Grupo Experimental:**  \n",
        "Usuários que acessam a versão da página onde o conteúdo explicativo do curso está ao lado do formulário (6% dos usuários).\n",
        "\n",
        "**Grupo de Controle:**  \n",
        "Usuários que acessam a versão da página onde o formulário está sem o conteúdo explicativo ao lado (94% dos usuários)."
      ],
      "metadata": {
        "id": "RTBRfMLTXYEt"
      }
    },
    {
      "cell_type": "markdown",
      "source": [
        "### 2.4. Período do Teste"
      ],
      "metadata": {
        "id": "ZLGbBvLsXYEt"
      }
    },
    {
      "cell_type": "markdown",
      "source": [
        "A página experimental estará no ar de 04 de junho de 2024 a 14 de junho de 2024. Os dados sobre a evolução do teste serão recebidos diariamente e poderão ser extraídos tanto pelo HubSpot quanto pelo Looker."
      ],
      "metadata": {
        "id": "7b6aX0VXXYEt"
      }
    },
    {
      "cell_type": "markdown",
      "source": [
        "## 3. Teste A/B"
      ],
      "metadata": {
        "id": "4bdXaN0UXYEt"
      }
    },
    {
      "cell_type": "markdown",
      "source": [
        "\n",
        "As mudanças foram realizadas na página de desenvolvimento da Wizard, acessível através de um link junto com o código-fonte, que podia ser acessado por meio de um tutorial. As principais alterações foram feitas em dois arquivos, \"home\" e \"formulário\", modificando o HTML e o CSS da página.\n",
        "\n",
        "Após as configurações e a reestruturação da Proposta B, a página foi implantada no ambiente de homologação da Wizard e, no dia 04 de junho, foi lançada ao ar.\n",
        "\n",
        "Para mais detalhes sobre o processo, acesse a seguinte documentação: [Código - Proposta B para Teste A/B.](https://github.com/Inteli-College/2024-1B-T04-SI10-G03/blob/main/document/sprint%203/%5BDocumenta%C3%A7%C3%A3o%20C%C3%B3digo%5D%20Proposta%20B%20para%20Teste%20A_B.pdf)"
      ],
      "metadata": {
        "id": "aDwtcf9vXYEu"
      }
    },
    {
      "cell_type": "markdown",
      "source": [
        "## 4. Preparação dos dados"
      ],
      "metadata": {
        "id": "GK0bVbA-XYEu"
      }
    },
    {
      "cell_type": "markdown",
      "source": [
        "Os resultados do teste serão disponibilizados em duas plataformas: HubSpot e Looker.\n",
        "\n",
        "Até o momento, foram disponibilizados apenas dados relacionados a quantidade de sessões e a quantidade de leads. Acredita-se que, ao longo da próxima sprint, a Wizard fornecerá mais dados para complementar a análise."
      ],
      "metadata": {
        "id": "H8wQpnZWXYEu"
      }
    },
    {
      "cell_type": "markdown",
      "source": [
        "### 4.1. Descrição dos Dados"
      ],
      "metadata": {
        "id": "1VBQpAwOXYEu"
      }
    },
    {
      "cell_type": "markdown",
      "source": [
        "\n",
        "- **`grupo`**: A qual grupo aquela linha de dados se refere.\n",
        "- **`data_inicial`**: O range de data inicial que os dados foram coletados.\n",
        "- **`data_final`**: O range de data final que os dados foram coletados.\n",
        "- **`sessions`**: Número total de sessões no site.\n",
        "- **`numero_leads`**: Quantidade de submissões de formulários.\n",
        "\n"
      ],
      "metadata": {
        "id": "Xk87zM53XYEu"
      }
    },
    {
      "cell_type": "markdown",
      "source": [
        "### 4.2. Carregamento dos dados"
      ],
      "metadata": {
        "id": "eLvWEIVcXYEu"
      }
    },
    {
      "cell_type": "code",
      "source": [
        "import pandas as pd"
      ],
      "metadata": {
        "id": "QGHXt_OvXYEu"
      },
      "execution_count": null,
      "outputs": []
    },
    {
      "cell_type": "code",
      "source": [
        "from google.colab import drive\n",
        "drive.mount('/content/drive')"
      ],
      "metadata": {
        "colab": {
          "base_uri": "https://localhost:8080/"
        },
        "outputId": "7f713b43-911f-44ea-cd52-01aa3f06be5c",
        "id": "bHzbX8EYXYEv"
      },
      "execution_count": null,
      "outputs": [
        {
          "output_type": "stream",
          "name": "stdout",
          "text": [
            "Drive already mounted at /content/drive; to attempt to forcibly remount, call drive.mount(\"/content/drive\", force_remount=True).\n"
          ]
        }
      ]
    },
    {
      "cell_type": "code",
      "source": [
        "df_looker = pd.read_csv('/content/drive/Shareddrives/M10_SI/dados-analise-quantitativa-m10/looker - 11_06.csv')"
      ],
      "metadata": {
        "id": "IE0T9KgnXYEv"
      },
      "execution_count": null,
      "outputs": []
    },
    {
      "cell_type": "code",
      "source": [
        "df_hubspot = pd.read_csv('/content/drive/Shareddrives/M10_SI/dados-analise-quantitativa-m10/Hubspot - 11_06.csv')"
      ],
      "metadata": {
        "id": "EOhKWpnrXYEw"
      },
      "execution_count": null,
      "outputs": []
    },
    {
      "cell_type": "markdown",
      "source": [
        "### 4.3. Informações dos dados"
      ],
      "metadata": {
        "id": "Z2LneVWFXYEw"
      }
    },
    {
      "cell_type": "code",
      "source": [
        "df_looker.info()"
      ],
      "metadata": {
        "colab": {
          "base_uri": "https://localhost:8080/"
        },
        "outputId": "a666a46b-12af-454f-c91c-a220c2964589",
        "id": "tJ3wSGmhXYEw"
      },
      "execution_count": null,
      "outputs": [
        {
          "output_type": "stream",
          "name": "stdout",
          "text": [
            "<class 'pandas.core.frame.DataFrame'>\n",
            "RangeIndex: 6 entries, 0 to 5\n",
            "Data columns (total 4 columns):\n",
            " #   Column        Non-Null Count  Dtype \n",
            "---  ------        --------------  ----- \n",
            " 0   Pagina        6 non-null      object\n",
            " 1   Sessoes       6 non-null      int64 \n",
            " 2   Data inicial  6 non-null      object\n",
            " 3   Data final    6 non-null      object\n",
            "dtypes: int64(1), object(3)\n",
            "memory usage: 320.0+ bytes\n"
          ]
        }
      ]
    },
    {
      "cell_type": "code",
      "source": [
        "df_hubspot.info()"
      ],
      "metadata": {
        "colab": {
          "base_uri": "https://localhost:8080/"
        },
        "outputId": "034b5324-3754-4308-b25a-16b673fa7e03",
        "id": "L1OCL7MrXYEw"
      },
      "execution_count": null,
      "outputs": [
        {
          "output_type": "stream",
          "name": "stdout",
          "text": [
            "<class 'pandas.core.frame.DataFrame'>\n",
            "RangeIndex: 6 entries, 0 to 5\n",
            "Data columns (total 4 columns):\n",
            " #   Column        Non-Null Count  Dtype \n",
            "---  ------        --------------  ----- \n",
            " 0   Pagina        6 non-null      object\n",
            " 1   Conversoes    6 non-null      int64 \n",
            " 2   Data inicial  6 non-null      object\n",
            " 3   Data final    6 non-null      object\n",
            "dtypes: int64(1), object(3)\n",
            "memory usage: 320.0+ bytes\n"
          ]
        }
      ]
    },
    {
      "cell_type": "markdown",
      "source": [
        "### 4.4. Visualização dos dados"
      ],
      "metadata": {
        "id": "EErJIvY_XYEw"
      }
    },
    {
      "cell_type": "code",
      "source": [
        "df_looker"
      ],
      "metadata": {
        "colab": {
          "base_uri": "https://localhost:8080/",
          "height": 238
        },
        "outputId": "eb427217-be89-4099-a09c-be6e60022fc9",
        "id": "lnoqcwEMXYEw"
      },
      "execution_count": null,
      "outputs": [
        {
          "output_type": "execute_result",
          "data": {
            "text/plain": [
              "              Pagina  Sessoes Data inicial  Data final\n",
              "0           Controle     6491   04/06/2024  11/06/2024\n",
              "1  Teste B - Grupo 1      460   04/06/2024  11/06/2024\n",
              "2  Teste B - Grupo 2      303   04/06/2024  11/06/2024\n",
              "3  Teste B - Grupo 3      443   04/06/2024  11/06/2024\n",
              "4  Teste B - Grupo 4      309   04/06/2024  11/06/2024\n",
              "5  Teste B - Grupo 5      278   04/06/2024  11/06/2024"
            ],
            "text/html": [
              "\n",
              "  <div id=\"df-348cb9ca-ded1-4771-bb70-f28e220de9c9\" class=\"colab-df-container\">\n",
              "    <div>\n",
              "<style scoped>\n",
              "    .dataframe tbody tr th:only-of-type {\n",
              "        vertical-align: middle;\n",
              "    }\n",
              "\n",
              "    .dataframe tbody tr th {\n",
              "        vertical-align: top;\n",
              "    }\n",
              "\n",
              "    .dataframe thead th {\n",
              "        text-align: right;\n",
              "    }\n",
              "</style>\n",
              "<table border=\"1\" class=\"dataframe\">\n",
              "  <thead>\n",
              "    <tr style=\"text-align: right;\">\n",
              "      <th></th>\n",
              "      <th>Pagina</th>\n",
              "      <th>Sessoes</th>\n",
              "      <th>Data inicial</th>\n",
              "      <th>Data final</th>\n",
              "    </tr>\n",
              "  </thead>\n",
              "  <tbody>\n",
              "    <tr>\n",
              "      <th>0</th>\n",
              "      <td>Controle</td>\n",
              "      <td>6491</td>\n",
              "      <td>04/06/2024</td>\n",
              "      <td>11/06/2024</td>\n",
              "    </tr>\n",
              "    <tr>\n",
              "      <th>1</th>\n",
              "      <td>Teste B - Grupo 1</td>\n",
              "      <td>460</td>\n",
              "      <td>04/06/2024</td>\n",
              "      <td>11/06/2024</td>\n",
              "    </tr>\n",
              "    <tr>\n",
              "      <th>2</th>\n",
              "      <td>Teste B - Grupo 2</td>\n",
              "      <td>303</td>\n",
              "      <td>04/06/2024</td>\n",
              "      <td>11/06/2024</td>\n",
              "    </tr>\n",
              "    <tr>\n",
              "      <th>3</th>\n",
              "      <td>Teste B - Grupo 3</td>\n",
              "      <td>443</td>\n",
              "      <td>04/06/2024</td>\n",
              "      <td>11/06/2024</td>\n",
              "    </tr>\n",
              "    <tr>\n",
              "      <th>4</th>\n",
              "      <td>Teste B - Grupo 4</td>\n",
              "      <td>309</td>\n",
              "      <td>04/06/2024</td>\n",
              "      <td>11/06/2024</td>\n",
              "    </tr>\n",
              "    <tr>\n",
              "      <th>5</th>\n",
              "      <td>Teste B - Grupo 5</td>\n",
              "      <td>278</td>\n",
              "      <td>04/06/2024</td>\n",
              "      <td>11/06/2024</td>\n",
              "    </tr>\n",
              "  </tbody>\n",
              "</table>\n",
              "</div>\n",
              "    <div class=\"colab-df-buttons\">\n",
              "\n",
              "  <div class=\"colab-df-container\">\n",
              "    <button class=\"colab-df-convert\" onclick=\"convertToInteractive('df-348cb9ca-ded1-4771-bb70-f28e220de9c9')\"\n",
              "            title=\"Convert this dataframe to an interactive table.\"\n",
              "            style=\"display:none;\">\n",
              "\n",
              "  <svg xmlns=\"http://www.w3.org/2000/svg\" height=\"24px\" viewBox=\"0 -960 960 960\">\n",
              "    <path d=\"M120-120v-720h720v720H120Zm60-500h600v-160H180v160Zm220 220h160v-160H400v160Zm0 220h160v-160H400v160ZM180-400h160v-160H180v160Zm440 0h160v-160H620v160ZM180-180h160v-160H180v160Zm440 0h160v-160H620v160Z\"/>\n",
              "  </svg>\n",
              "    </button>\n",
              "\n",
              "  <style>\n",
              "    .colab-df-container {\n",
              "      display:flex;\n",
              "      gap: 12px;\n",
              "    }\n",
              "\n",
              "    .colab-df-convert {\n",
              "      background-color: #E8F0FE;\n",
              "      border: none;\n",
              "      border-radius: 50%;\n",
              "      cursor: pointer;\n",
              "      display: none;\n",
              "      fill: #1967D2;\n",
              "      height: 32px;\n",
              "      padding: 0 0 0 0;\n",
              "      width: 32px;\n",
              "    }\n",
              "\n",
              "    .colab-df-convert:hover {\n",
              "      background-color: #E2EBFA;\n",
              "      box-shadow: 0px 1px 2px rgba(60, 64, 67, 0.3), 0px 1px 3px 1px rgba(60, 64, 67, 0.15);\n",
              "      fill: #174EA6;\n",
              "    }\n",
              "\n",
              "    .colab-df-buttons div {\n",
              "      margin-bottom: 4px;\n",
              "    }\n",
              "\n",
              "    [theme=dark] .colab-df-convert {\n",
              "      background-color: #3B4455;\n",
              "      fill: #D2E3FC;\n",
              "    }\n",
              "\n",
              "    [theme=dark] .colab-df-convert:hover {\n",
              "      background-color: #434B5C;\n",
              "      box-shadow: 0px 1px 3px 1px rgba(0, 0, 0, 0.15);\n",
              "      filter: drop-shadow(0px 1px 2px rgba(0, 0, 0, 0.3));\n",
              "      fill: #FFFFFF;\n",
              "    }\n",
              "  </style>\n",
              "\n",
              "    <script>\n",
              "      const buttonEl =\n",
              "        document.querySelector('#df-348cb9ca-ded1-4771-bb70-f28e220de9c9 button.colab-df-convert');\n",
              "      buttonEl.style.display =\n",
              "        google.colab.kernel.accessAllowed ? 'block' : 'none';\n",
              "\n",
              "      async function convertToInteractive(key) {\n",
              "        const element = document.querySelector('#df-348cb9ca-ded1-4771-bb70-f28e220de9c9');\n",
              "        const dataTable =\n",
              "          await google.colab.kernel.invokeFunction('convertToInteractive',\n",
              "                                                    [key], {});\n",
              "        if (!dataTable) return;\n",
              "\n",
              "        const docLinkHtml = 'Like what you see? Visit the ' +\n",
              "          '<a target=\"_blank\" href=https://colab.research.google.com/notebooks/data_table.ipynb>data table notebook</a>'\n",
              "          + ' to learn more about interactive tables.';\n",
              "        element.innerHTML = '';\n",
              "        dataTable['output_type'] = 'display_data';\n",
              "        await google.colab.output.renderOutput(dataTable, element);\n",
              "        const docLink = document.createElement('div');\n",
              "        docLink.innerHTML = docLinkHtml;\n",
              "        element.appendChild(docLink);\n",
              "      }\n",
              "    </script>\n",
              "  </div>\n",
              "\n",
              "\n",
              "<div id=\"df-4636c0ef-9c79-4502-b1e2-d6217bbdb34e\">\n",
              "  <button class=\"colab-df-quickchart\" onclick=\"quickchart('df-4636c0ef-9c79-4502-b1e2-d6217bbdb34e')\"\n",
              "            title=\"Suggest charts\"\n",
              "            style=\"display:none;\">\n",
              "\n",
              "<svg xmlns=\"http://www.w3.org/2000/svg\" height=\"24px\"viewBox=\"0 0 24 24\"\n",
              "     width=\"24px\">\n",
              "    <g>\n",
              "        <path d=\"M19 3H5c-1.1 0-2 .9-2 2v14c0 1.1.9 2 2 2h14c1.1 0 2-.9 2-2V5c0-1.1-.9-2-2-2zM9 17H7v-7h2v7zm4 0h-2V7h2v10zm4 0h-2v-4h2v4z\"/>\n",
              "    </g>\n",
              "</svg>\n",
              "  </button>\n",
              "\n",
              "<style>\n",
              "  .colab-df-quickchart {\n",
              "      --bg-color: #E8F0FE;\n",
              "      --fill-color: #1967D2;\n",
              "      --hover-bg-color: #E2EBFA;\n",
              "      --hover-fill-color: #174EA6;\n",
              "      --disabled-fill-color: #AAA;\n",
              "      --disabled-bg-color: #DDD;\n",
              "  }\n",
              "\n",
              "  [theme=dark] .colab-df-quickchart {\n",
              "      --bg-color: #3B4455;\n",
              "      --fill-color: #D2E3FC;\n",
              "      --hover-bg-color: #434B5C;\n",
              "      --hover-fill-color: #FFFFFF;\n",
              "      --disabled-bg-color: #3B4455;\n",
              "      --disabled-fill-color: #666;\n",
              "  }\n",
              "\n",
              "  .colab-df-quickchart {\n",
              "    background-color: var(--bg-color);\n",
              "    border: none;\n",
              "    border-radius: 50%;\n",
              "    cursor: pointer;\n",
              "    display: none;\n",
              "    fill: var(--fill-color);\n",
              "    height: 32px;\n",
              "    padding: 0;\n",
              "    width: 32px;\n",
              "  }\n",
              "\n",
              "  .colab-df-quickchart:hover {\n",
              "    background-color: var(--hover-bg-color);\n",
              "    box-shadow: 0 1px 2px rgba(60, 64, 67, 0.3), 0 1px 3px 1px rgba(60, 64, 67, 0.15);\n",
              "    fill: var(--button-hover-fill-color);\n",
              "  }\n",
              "\n",
              "  .colab-df-quickchart-complete:disabled,\n",
              "  .colab-df-quickchart-complete:disabled:hover {\n",
              "    background-color: var(--disabled-bg-color);\n",
              "    fill: var(--disabled-fill-color);\n",
              "    box-shadow: none;\n",
              "  }\n",
              "\n",
              "  .colab-df-spinner {\n",
              "    border: 2px solid var(--fill-color);\n",
              "    border-color: transparent;\n",
              "    border-bottom-color: var(--fill-color);\n",
              "    animation:\n",
              "      spin 1s steps(1) infinite;\n",
              "  }\n",
              "\n",
              "  @keyframes spin {\n",
              "    0% {\n",
              "      border-color: transparent;\n",
              "      border-bottom-color: var(--fill-color);\n",
              "      border-left-color: var(--fill-color);\n",
              "    }\n",
              "    20% {\n",
              "      border-color: transparent;\n",
              "      border-left-color: var(--fill-color);\n",
              "      border-top-color: var(--fill-color);\n",
              "    }\n",
              "    30% {\n",
              "      border-color: transparent;\n",
              "      border-left-color: var(--fill-color);\n",
              "      border-top-color: var(--fill-color);\n",
              "      border-right-color: var(--fill-color);\n",
              "    }\n",
              "    40% {\n",
              "      border-color: transparent;\n",
              "      border-right-color: var(--fill-color);\n",
              "      border-top-color: var(--fill-color);\n",
              "    }\n",
              "    60% {\n",
              "      border-color: transparent;\n",
              "      border-right-color: var(--fill-color);\n",
              "    }\n",
              "    80% {\n",
              "      border-color: transparent;\n",
              "      border-right-color: var(--fill-color);\n",
              "      border-bottom-color: var(--fill-color);\n",
              "    }\n",
              "    90% {\n",
              "      border-color: transparent;\n",
              "      border-bottom-color: var(--fill-color);\n",
              "    }\n",
              "  }\n",
              "</style>\n",
              "\n",
              "  <script>\n",
              "    async function quickchart(key) {\n",
              "      const quickchartButtonEl =\n",
              "        document.querySelector('#' + key + ' button');\n",
              "      quickchartButtonEl.disabled = true;  // To prevent multiple clicks.\n",
              "      quickchartButtonEl.classList.add('colab-df-spinner');\n",
              "      try {\n",
              "        const charts = await google.colab.kernel.invokeFunction(\n",
              "            'suggestCharts', [key], {});\n",
              "      } catch (error) {\n",
              "        console.error('Error during call to suggestCharts:', error);\n",
              "      }\n",
              "      quickchartButtonEl.classList.remove('colab-df-spinner');\n",
              "      quickchartButtonEl.classList.add('colab-df-quickchart-complete');\n",
              "    }\n",
              "    (() => {\n",
              "      let quickchartButtonEl =\n",
              "        document.querySelector('#df-4636c0ef-9c79-4502-b1e2-d6217bbdb34e button');\n",
              "      quickchartButtonEl.style.display =\n",
              "        google.colab.kernel.accessAllowed ? 'block' : 'none';\n",
              "    })();\n",
              "  </script>\n",
              "</div>\n",
              "\n",
              "  <div id=\"id_9b54ff78-7f38-4cd8-94d2-faf03379679a\">\n",
              "    <style>\n",
              "      .colab-df-generate {\n",
              "        background-color: #E8F0FE;\n",
              "        border: none;\n",
              "        border-radius: 50%;\n",
              "        cursor: pointer;\n",
              "        display: none;\n",
              "        fill: #1967D2;\n",
              "        height: 32px;\n",
              "        padding: 0 0 0 0;\n",
              "        width: 32px;\n",
              "      }\n",
              "\n",
              "      .colab-df-generate:hover {\n",
              "        background-color: #E2EBFA;\n",
              "        box-shadow: 0px 1px 2px rgba(60, 64, 67, 0.3), 0px 1px 3px 1px rgba(60, 64, 67, 0.15);\n",
              "        fill: #174EA6;\n",
              "      }\n",
              "\n",
              "      [theme=dark] .colab-df-generate {\n",
              "        background-color: #3B4455;\n",
              "        fill: #D2E3FC;\n",
              "      }\n",
              "\n",
              "      [theme=dark] .colab-df-generate:hover {\n",
              "        background-color: #434B5C;\n",
              "        box-shadow: 0px 1px 3px 1px rgba(0, 0, 0, 0.15);\n",
              "        filter: drop-shadow(0px 1px 2px rgba(0, 0, 0, 0.3));\n",
              "        fill: #FFFFFF;\n",
              "      }\n",
              "    </style>\n",
              "    <button class=\"colab-df-generate\" onclick=\"generateWithVariable('df_looker')\"\n",
              "            title=\"Generate code using this dataframe.\"\n",
              "            style=\"display:none;\">\n",
              "\n",
              "  <svg xmlns=\"http://www.w3.org/2000/svg\" height=\"24px\"viewBox=\"0 0 24 24\"\n",
              "       width=\"24px\">\n",
              "    <path d=\"M7,19H8.4L18.45,9,17,7.55,7,17.6ZM5,21V16.75L18.45,3.32a2,2,0,0,1,2.83,0l1.4,1.43a1.91,1.91,0,0,1,.58,1.4,1.91,1.91,0,0,1-.58,1.4L9.25,21ZM18.45,9,17,7.55Zm-12,3A5.31,5.31,0,0,0,4.9,8.1,5.31,5.31,0,0,0,1,6.5,5.31,5.31,0,0,0,4.9,4.9,5.31,5.31,0,0,0,6.5,1,5.31,5.31,0,0,0,8.1,4.9,5.31,5.31,0,0,0,12,6.5,5.46,5.46,0,0,0,6.5,12Z\"/>\n",
              "  </svg>\n",
              "    </button>\n",
              "    <script>\n",
              "      (() => {\n",
              "      const buttonEl =\n",
              "        document.querySelector('#id_9b54ff78-7f38-4cd8-94d2-faf03379679a button.colab-df-generate');\n",
              "      buttonEl.style.display =\n",
              "        google.colab.kernel.accessAllowed ? 'block' : 'none';\n",
              "\n",
              "      buttonEl.onclick = () => {\n",
              "        google.colab.notebook.generateWithVariable('df_looker');\n",
              "      }\n",
              "      })();\n",
              "    </script>\n",
              "  </div>\n",
              "\n",
              "    </div>\n",
              "  </div>\n"
            ],
            "application/vnd.google.colaboratory.intrinsic+json": {
              "type": "dataframe",
              "variable_name": "df_looker",
              "summary": "{\n  \"name\": \"df_looker\",\n  \"rows\": 6,\n  \"fields\": [\n    {\n      \"column\": \"Pagina\",\n      \"properties\": {\n        \"dtype\": \"string\",\n        \"num_unique_values\": 6,\n        \"samples\": [\n          \"Controle\",\n          \"Teste B - Grupo 1\",\n          \"Teste B - Grupo 5\"\n        ],\n        \"semantic_type\": \"\",\n        \"description\": \"\"\n      }\n    },\n    {\n      \"column\": \"Sessoes\",\n      \"properties\": {\n        \"dtype\": \"number\",\n        \"std\": 2504,\n        \"min\": 278,\n        \"max\": 6491,\n        \"num_unique_values\": 6,\n        \"samples\": [\n          6491,\n          460,\n          278\n        ],\n        \"semantic_type\": \"\",\n        \"description\": \"\"\n      }\n    },\n    {\n      \"column\": \"Data inicial\",\n      \"properties\": {\n        \"dtype\": \"object\",\n        \"num_unique_values\": 1,\n        \"samples\": [\n          \"04/06/2024\"\n        ],\n        \"semantic_type\": \"\",\n        \"description\": \"\"\n      }\n    },\n    {\n      \"column\": \"Data final\",\n      \"properties\": {\n        \"dtype\": \"object\",\n        \"num_unique_values\": 1,\n        \"samples\": [\n          \"11/06/2024\"\n        ],\n        \"semantic_type\": \"\",\n        \"description\": \"\"\n      }\n    }\n  ]\n}"
            }
          },
          "metadata": {},
          "execution_count": 29
        }
      ]
    },
    {
      "cell_type": "code",
      "source": [
        "df_hubspot"
      ],
      "metadata": {
        "colab": {
          "base_uri": "https://localhost:8080/",
          "height": 238
        },
        "outputId": "71aa7c0c-d002-4be6-b8c2-c2516b6767e0",
        "id": "F4UcPySRXYEw"
      },
      "execution_count": null,
      "outputs": [
        {
          "output_type": "execute_result",
          "data": {
            "text/plain": [
              "              Pagina  Conversoes Data inicial  Data final\n",
              "0           Controle         541   04/06/2024  11/06/2024\n",
              "1  Teste B - Grupo 1          28   04/06/2024  11/06/2024\n",
              "2  Teste B - Grupo 2          19   04/06/2024  11/06/2024\n",
              "3  Teste B - Grupo 3          26   04/06/2024  11/06/2024\n",
              "4  Teste B - Grupo 4          19   04/06/2024  11/06/2024\n",
              "5  Teste B - Grupo 5          15   04/06/2024  11/06/2024"
            ],
            "text/html": [
              "\n",
              "  <div id=\"df-8e3bc1bf-1a67-43ef-a284-5d6c5182bf15\" class=\"colab-df-container\">\n",
              "    <div>\n",
              "<style scoped>\n",
              "    .dataframe tbody tr th:only-of-type {\n",
              "        vertical-align: middle;\n",
              "    }\n",
              "\n",
              "    .dataframe tbody tr th {\n",
              "        vertical-align: top;\n",
              "    }\n",
              "\n",
              "    .dataframe thead th {\n",
              "        text-align: right;\n",
              "    }\n",
              "</style>\n",
              "<table border=\"1\" class=\"dataframe\">\n",
              "  <thead>\n",
              "    <tr style=\"text-align: right;\">\n",
              "      <th></th>\n",
              "      <th>Pagina</th>\n",
              "      <th>Conversoes</th>\n",
              "      <th>Data inicial</th>\n",
              "      <th>Data final</th>\n",
              "    </tr>\n",
              "  </thead>\n",
              "  <tbody>\n",
              "    <tr>\n",
              "      <th>0</th>\n",
              "      <td>Controle</td>\n",
              "      <td>541</td>\n",
              "      <td>04/06/2024</td>\n",
              "      <td>11/06/2024</td>\n",
              "    </tr>\n",
              "    <tr>\n",
              "      <th>1</th>\n",
              "      <td>Teste B - Grupo 1</td>\n",
              "      <td>28</td>\n",
              "      <td>04/06/2024</td>\n",
              "      <td>11/06/2024</td>\n",
              "    </tr>\n",
              "    <tr>\n",
              "      <th>2</th>\n",
              "      <td>Teste B - Grupo 2</td>\n",
              "      <td>19</td>\n",
              "      <td>04/06/2024</td>\n",
              "      <td>11/06/2024</td>\n",
              "    </tr>\n",
              "    <tr>\n",
              "      <th>3</th>\n",
              "      <td>Teste B - Grupo 3</td>\n",
              "      <td>26</td>\n",
              "      <td>04/06/2024</td>\n",
              "      <td>11/06/2024</td>\n",
              "    </tr>\n",
              "    <tr>\n",
              "      <th>4</th>\n",
              "      <td>Teste B - Grupo 4</td>\n",
              "      <td>19</td>\n",
              "      <td>04/06/2024</td>\n",
              "      <td>11/06/2024</td>\n",
              "    </tr>\n",
              "    <tr>\n",
              "      <th>5</th>\n",
              "      <td>Teste B - Grupo 5</td>\n",
              "      <td>15</td>\n",
              "      <td>04/06/2024</td>\n",
              "      <td>11/06/2024</td>\n",
              "    </tr>\n",
              "  </tbody>\n",
              "</table>\n",
              "</div>\n",
              "    <div class=\"colab-df-buttons\">\n",
              "\n",
              "  <div class=\"colab-df-container\">\n",
              "    <button class=\"colab-df-convert\" onclick=\"convertToInteractive('df-8e3bc1bf-1a67-43ef-a284-5d6c5182bf15')\"\n",
              "            title=\"Convert this dataframe to an interactive table.\"\n",
              "            style=\"display:none;\">\n",
              "\n",
              "  <svg xmlns=\"http://www.w3.org/2000/svg\" height=\"24px\" viewBox=\"0 -960 960 960\">\n",
              "    <path d=\"M120-120v-720h720v720H120Zm60-500h600v-160H180v160Zm220 220h160v-160H400v160Zm0 220h160v-160H400v160ZM180-400h160v-160H180v160Zm440 0h160v-160H620v160ZM180-180h160v-160H180v160Zm440 0h160v-160H620v160Z\"/>\n",
              "  </svg>\n",
              "    </button>\n",
              "\n",
              "  <style>\n",
              "    .colab-df-container {\n",
              "      display:flex;\n",
              "      gap: 12px;\n",
              "    }\n",
              "\n",
              "    .colab-df-convert {\n",
              "      background-color: #E8F0FE;\n",
              "      border: none;\n",
              "      border-radius: 50%;\n",
              "      cursor: pointer;\n",
              "      display: none;\n",
              "      fill: #1967D2;\n",
              "      height: 32px;\n",
              "      padding: 0 0 0 0;\n",
              "      width: 32px;\n",
              "    }\n",
              "\n",
              "    .colab-df-convert:hover {\n",
              "      background-color: #E2EBFA;\n",
              "      box-shadow: 0px 1px 2px rgba(60, 64, 67, 0.3), 0px 1px 3px 1px rgba(60, 64, 67, 0.15);\n",
              "      fill: #174EA6;\n",
              "    }\n",
              "\n",
              "    .colab-df-buttons div {\n",
              "      margin-bottom: 4px;\n",
              "    }\n",
              "\n",
              "    [theme=dark] .colab-df-convert {\n",
              "      background-color: #3B4455;\n",
              "      fill: #D2E3FC;\n",
              "    }\n",
              "\n",
              "    [theme=dark] .colab-df-convert:hover {\n",
              "      background-color: #434B5C;\n",
              "      box-shadow: 0px 1px 3px 1px rgba(0, 0, 0, 0.15);\n",
              "      filter: drop-shadow(0px 1px 2px rgba(0, 0, 0, 0.3));\n",
              "      fill: #FFFFFF;\n",
              "    }\n",
              "  </style>\n",
              "\n",
              "    <script>\n",
              "      const buttonEl =\n",
              "        document.querySelector('#df-8e3bc1bf-1a67-43ef-a284-5d6c5182bf15 button.colab-df-convert');\n",
              "      buttonEl.style.display =\n",
              "        google.colab.kernel.accessAllowed ? 'block' : 'none';\n",
              "\n",
              "      async function convertToInteractive(key) {\n",
              "        const element = document.querySelector('#df-8e3bc1bf-1a67-43ef-a284-5d6c5182bf15');\n",
              "        const dataTable =\n",
              "          await google.colab.kernel.invokeFunction('convertToInteractive',\n",
              "                                                    [key], {});\n",
              "        if (!dataTable) return;\n",
              "\n",
              "        const docLinkHtml = 'Like what you see? Visit the ' +\n",
              "          '<a target=\"_blank\" href=https://colab.research.google.com/notebooks/data_table.ipynb>data table notebook</a>'\n",
              "          + ' to learn more about interactive tables.';\n",
              "        element.innerHTML = '';\n",
              "        dataTable['output_type'] = 'display_data';\n",
              "        await google.colab.output.renderOutput(dataTable, element);\n",
              "        const docLink = document.createElement('div');\n",
              "        docLink.innerHTML = docLinkHtml;\n",
              "        element.appendChild(docLink);\n",
              "      }\n",
              "    </script>\n",
              "  </div>\n",
              "\n",
              "\n",
              "<div id=\"df-fb8980df-b1fd-4ca8-8c24-97ffa21c362b\">\n",
              "  <button class=\"colab-df-quickchart\" onclick=\"quickchart('df-fb8980df-b1fd-4ca8-8c24-97ffa21c362b')\"\n",
              "            title=\"Suggest charts\"\n",
              "            style=\"display:none;\">\n",
              "\n",
              "<svg xmlns=\"http://www.w3.org/2000/svg\" height=\"24px\"viewBox=\"0 0 24 24\"\n",
              "     width=\"24px\">\n",
              "    <g>\n",
              "        <path d=\"M19 3H5c-1.1 0-2 .9-2 2v14c0 1.1.9 2 2 2h14c1.1 0 2-.9 2-2V5c0-1.1-.9-2-2-2zM9 17H7v-7h2v7zm4 0h-2V7h2v10zm4 0h-2v-4h2v4z\"/>\n",
              "    </g>\n",
              "</svg>\n",
              "  </button>\n",
              "\n",
              "<style>\n",
              "  .colab-df-quickchart {\n",
              "      --bg-color: #E8F0FE;\n",
              "      --fill-color: #1967D2;\n",
              "      --hover-bg-color: #E2EBFA;\n",
              "      --hover-fill-color: #174EA6;\n",
              "      --disabled-fill-color: #AAA;\n",
              "      --disabled-bg-color: #DDD;\n",
              "  }\n",
              "\n",
              "  [theme=dark] .colab-df-quickchart {\n",
              "      --bg-color: #3B4455;\n",
              "      --fill-color: #D2E3FC;\n",
              "      --hover-bg-color: #434B5C;\n",
              "      --hover-fill-color: #FFFFFF;\n",
              "      --disabled-bg-color: #3B4455;\n",
              "      --disabled-fill-color: #666;\n",
              "  }\n",
              "\n",
              "  .colab-df-quickchart {\n",
              "    background-color: var(--bg-color);\n",
              "    border: none;\n",
              "    border-radius: 50%;\n",
              "    cursor: pointer;\n",
              "    display: none;\n",
              "    fill: var(--fill-color);\n",
              "    height: 32px;\n",
              "    padding: 0;\n",
              "    width: 32px;\n",
              "  }\n",
              "\n",
              "  .colab-df-quickchart:hover {\n",
              "    background-color: var(--hover-bg-color);\n",
              "    box-shadow: 0 1px 2px rgba(60, 64, 67, 0.3), 0 1px 3px 1px rgba(60, 64, 67, 0.15);\n",
              "    fill: var(--button-hover-fill-color);\n",
              "  }\n",
              "\n",
              "  .colab-df-quickchart-complete:disabled,\n",
              "  .colab-df-quickchart-complete:disabled:hover {\n",
              "    background-color: var(--disabled-bg-color);\n",
              "    fill: var(--disabled-fill-color);\n",
              "    box-shadow: none;\n",
              "  }\n",
              "\n",
              "  .colab-df-spinner {\n",
              "    border: 2px solid var(--fill-color);\n",
              "    border-color: transparent;\n",
              "    border-bottom-color: var(--fill-color);\n",
              "    animation:\n",
              "      spin 1s steps(1) infinite;\n",
              "  }\n",
              "\n",
              "  @keyframes spin {\n",
              "    0% {\n",
              "      border-color: transparent;\n",
              "      border-bottom-color: var(--fill-color);\n",
              "      border-left-color: var(--fill-color);\n",
              "    }\n",
              "    20% {\n",
              "      border-color: transparent;\n",
              "      border-left-color: var(--fill-color);\n",
              "      border-top-color: var(--fill-color);\n",
              "    }\n",
              "    30% {\n",
              "      border-color: transparent;\n",
              "      border-left-color: var(--fill-color);\n",
              "      border-top-color: var(--fill-color);\n",
              "      border-right-color: var(--fill-color);\n",
              "    }\n",
              "    40% {\n",
              "      border-color: transparent;\n",
              "      border-right-color: var(--fill-color);\n",
              "      border-top-color: var(--fill-color);\n",
              "    }\n",
              "    60% {\n",
              "      border-color: transparent;\n",
              "      border-right-color: var(--fill-color);\n",
              "    }\n",
              "    80% {\n",
              "      border-color: transparent;\n",
              "      border-right-color: var(--fill-color);\n",
              "      border-bottom-color: var(--fill-color);\n",
              "    }\n",
              "    90% {\n",
              "      border-color: transparent;\n",
              "      border-bottom-color: var(--fill-color);\n",
              "    }\n",
              "  }\n",
              "</style>\n",
              "\n",
              "  <script>\n",
              "    async function quickchart(key) {\n",
              "      const quickchartButtonEl =\n",
              "        document.querySelector('#' + key + ' button');\n",
              "      quickchartButtonEl.disabled = true;  // To prevent multiple clicks.\n",
              "      quickchartButtonEl.classList.add('colab-df-spinner');\n",
              "      try {\n",
              "        const charts = await google.colab.kernel.invokeFunction(\n",
              "            'suggestCharts', [key], {});\n",
              "      } catch (error) {\n",
              "        console.error('Error during call to suggestCharts:', error);\n",
              "      }\n",
              "      quickchartButtonEl.classList.remove('colab-df-spinner');\n",
              "      quickchartButtonEl.classList.add('colab-df-quickchart-complete');\n",
              "    }\n",
              "    (() => {\n",
              "      let quickchartButtonEl =\n",
              "        document.querySelector('#df-fb8980df-b1fd-4ca8-8c24-97ffa21c362b button');\n",
              "      quickchartButtonEl.style.display =\n",
              "        google.colab.kernel.accessAllowed ? 'block' : 'none';\n",
              "    })();\n",
              "  </script>\n",
              "</div>\n",
              "\n",
              "  <div id=\"id_b99d267e-dd83-48dc-bd32-7538788de53a\">\n",
              "    <style>\n",
              "      .colab-df-generate {\n",
              "        background-color: #E8F0FE;\n",
              "        border: none;\n",
              "        border-radius: 50%;\n",
              "        cursor: pointer;\n",
              "        display: none;\n",
              "        fill: #1967D2;\n",
              "        height: 32px;\n",
              "        padding: 0 0 0 0;\n",
              "        width: 32px;\n",
              "      }\n",
              "\n",
              "      .colab-df-generate:hover {\n",
              "        background-color: #E2EBFA;\n",
              "        box-shadow: 0px 1px 2px rgba(60, 64, 67, 0.3), 0px 1px 3px 1px rgba(60, 64, 67, 0.15);\n",
              "        fill: #174EA6;\n",
              "      }\n",
              "\n",
              "      [theme=dark] .colab-df-generate {\n",
              "        background-color: #3B4455;\n",
              "        fill: #D2E3FC;\n",
              "      }\n",
              "\n",
              "      [theme=dark] .colab-df-generate:hover {\n",
              "        background-color: #434B5C;\n",
              "        box-shadow: 0px 1px 3px 1px rgba(0, 0, 0, 0.15);\n",
              "        filter: drop-shadow(0px 1px 2px rgba(0, 0, 0, 0.3));\n",
              "        fill: #FFFFFF;\n",
              "      }\n",
              "    </style>\n",
              "    <button class=\"colab-df-generate\" onclick=\"generateWithVariable('df_hubspot')\"\n",
              "            title=\"Generate code using this dataframe.\"\n",
              "            style=\"display:none;\">\n",
              "\n",
              "  <svg xmlns=\"http://www.w3.org/2000/svg\" height=\"24px\"viewBox=\"0 0 24 24\"\n",
              "       width=\"24px\">\n",
              "    <path d=\"M7,19H8.4L18.45,9,17,7.55,7,17.6ZM5,21V16.75L18.45,3.32a2,2,0,0,1,2.83,0l1.4,1.43a1.91,1.91,0,0,1,.58,1.4,1.91,1.91,0,0,1-.58,1.4L9.25,21ZM18.45,9,17,7.55Zm-12,3A5.31,5.31,0,0,0,4.9,8.1,5.31,5.31,0,0,0,1,6.5,5.31,5.31,0,0,0,4.9,4.9,5.31,5.31,0,0,0,6.5,1,5.31,5.31,0,0,0,8.1,4.9,5.31,5.31,0,0,0,12,6.5,5.46,5.46,0,0,0,6.5,12Z\"/>\n",
              "  </svg>\n",
              "    </button>\n",
              "    <script>\n",
              "      (() => {\n",
              "      const buttonEl =\n",
              "        document.querySelector('#id_b99d267e-dd83-48dc-bd32-7538788de53a button.colab-df-generate');\n",
              "      buttonEl.style.display =\n",
              "        google.colab.kernel.accessAllowed ? 'block' : 'none';\n",
              "\n",
              "      buttonEl.onclick = () => {\n",
              "        google.colab.notebook.generateWithVariable('df_hubspot');\n",
              "      }\n",
              "      })();\n",
              "    </script>\n",
              "  </div>\n",
              "\n",
              "    </div>\n",
              "  </div>\n"
            ],
            "application/vnd.google.colaboratory.intrinsic+json": {
              "type": "dataframe",
              "variable_name": "df_hubspot",
              "summary": "{\n  \"name\": \"df_hubspot\",\n  \"rows\": 6,\n  \"fields\": [\n    {\n      \"column\": \"Pagina\",\n      \"properties\": {\n        \"dtype\": \"string\",\n        \"num_unique_values\": 6,\n        \"samples\": [\n          \"Controle\",\n          \"Teste B - Grupo 1\",\n          \"Teste B - Grupo 5\"\n        ],\n        \"semantic_type\": \"\",\n        \"description\": \"\"\n      }\n    },\n    {\n      \"column\": \"Conversoes\",\n      \"properties\": {\n        \"dtype\": \"number\",\n        \"std\": 212,\n        \"min\": 15,\n        \"max\": 541,\n        \"num_unique_values\": 5,\n        \"samples\": [\n          28,\n          15,\n          19\n        ],\n        \"semantic_type\": \"\",\n        \"description\": \"\"\n      }\n    },\n    {\n      \"column\": \"Data inicial\",\n      \"properties\": {\n        \"dtype\": \"object\",\n        \"num_unique_values\": 1,\n        \"samples\": [\n          \"04/06/2024\"\n        ],\n        \"semantic_type\": \"\",\n        \"description\": \"\"\n      }\n    },\n    {\n      \"column\": \"Data final\",\n      \"properties\": {\n        \"dtype\": \"object\",\n        \"num_unique_values\": 1,\n        \"samples\": [\n          \"11/06/2024\"\n        ],\n        \"semantic_type\": \"\",\n        \"description\": \"\"\n      }\n    }\n  ]\n}"
            }
          },
          "metadata": {},
          "execution_count": 30
        }
      ]
    },
    {
      "cell_type": "markdown",
      "source": [
        "### 4.5. Unificando os dataframes"
      ],
      "metadata": {
        "id": "GPs4X2TKXYEx"
      }
    },
    {
      "cell_type": "code",
      "source": [
        "dados = pd.concat([df_looker, df_hubspot['Conversoes']], axis=1)\n",
        "dados"
      ],
      "metadata": {
        "colab": {
          "base_uri": "https://localhost:8080/",
          "height": 238
        },
        "outputId": "3a650fe7-642c-428b-d588-0ab1c2c9311b",
        "id": "QSmJJiW2XYEx"
      },
      "execution_count": null,
      "outputs": [
        {
          "output_type": "execute_result",
          "data": {
            "text/plain": [
              "              Pagina  Sessoes Data inicial  Data final  Conversoes\n",
              "0           Controle     6491   04/06/2024  11/06/2024         541\n",
              "1  Teste B - Grupo 1      460   04/06/2024  11/06/2024          28\n",
              "2  Teste B - Grupo 2      303   04/06/2024  11/06/2024          19\n",
              "3  Teste B - Grupo 3      443   04/06/2024  11/06/2024          26\n",
              "4  Teste B - Grupo 4      309   04/06/2024  11/06/2024          19\n",
              "5  Teste B - Grupo 5      278   04/06/2024  11/06/2024          15"
            ],
            "text/html": [
              "\n",
              "  <div id=\"df-a0bb6ade-d7fa-4dbd-85bd-e8810dd4cb23\" class=\"colab-df-container\">\n",
              "    <div>\n",
              "<style scoped>\n",
              "    .dataframe tbody tr th:only-of-type {\n",
              "        vertical-align: middle;\n",
              "    }\n",
              "\n",
              "    .dataframe tbody tr th {\n",
              "        vertical-align: top;\n",
              "    }\n",
              "\n",
              "    .dataframe thead th {\n",
              "        text-align: right;\n",
              "    }\n",
              "</style>\n",
              "<table border=\"1\" class=\"dataframe\">\n",
              "  <thead>\n",
              "    <tr style=\"text-align: right;\">\n",
              "      <th></th>\n",
              "      <th>Pagina</th>\n",
              "      <th>Sessoes</th>\n",
              "      <th>Data inicial</th>\n",
              "      <th>Data final</th>\n",
              "      <th>Conversoes</th>\n",
              "    </tr>\n",
              "  </thead>\n",
              "  <tbody>\n",
              "    <tr>\n",
              "      <th>0</th>\n",
              "      <td>Controle</td>\n",
              "      <td>6491</td>\n",
              "      <td>04/06/2024</td>\n",
              "      <td>11/06/2024</td>\n",
              "      <td>541</td>\n",
              "    </tr>\n",
              "    <tr>\n",
              "      <th>1</th>\n",
              "      <td>Teste B - Grupo 1</td>\n",
              "      <td>460</td>\n",
              "      <td>04/06/2024</td>\n",
              "      <td>11/06/2024</td>\n",
              "      <td>28</td>\n",
              "    </tr>\n",
              "    <tr>\n",
              "      <th>2</th>\n",
              "      <td>Teste B - Grupo 2</td>\n",
              "      <td>303</td>\n",
              "      <td>04/06/2024</td>\n",
              "      <td>11/06/2024</td>\n",
              "      <td>19</td>\n",
              "    </tr>\n",
              "    <tr>\n",
              "      <th>3</th>\n",
              "      <td>Teste B - Grupo 3</td>\n",
              "      <td>443</td>\n",
              "      <td>04/06/2024</td>\n",
              "      <td>11/06/2024</td>\n",
              "      <td>26</td>\n",
              "    </tr>\n",
              "    <tr>\n",
              "      <th>4</th>\n",
              "      <td>Teste B - Grupo 4</td>\n",
              "      <td>309</td>\n",
              "      <td>04/06/2024</td>\n",
              "      <td>11/06/2024</td>\n",
              "      <td>19</td>\n",
              "    </tr>\n",
              "    <tr>\n",
              "      <th>5</th>\n",
              "      <td>Teste B - Grupo 5</td>\n",
              "      <td>278</td>\n",
              "      <td>04/06/2024</td>\n",
              "      <td>11/06/2024</td>\n",
              "      <td>15</td>\n",
              "    </tr>\n",
              "  </tbody>\n",
              "</table>\n",
              "</div>\n",
              "    <div class=\"colab-df-buttons\">\n",
              "\n",
              "  <div class=\"colab-df-container\">\n",
              "    <button class=\"colab-df-convert\" onclick=\"convertToInteractive('df-a0bb6ade-d7fa-4dbd-85bd-e8810dd4cb23')\"\n",
              "            title=\"Convert this dataframe to an interactive table.\"\n",
              "            style=\"display:none;\">\n",
              "\n",
              "  <svg xmlns=\"http://www.w3.org/2000/svg\" height=\"24px\" viewBox=\"0 -960 960 960\">\n",
              "    <path d=\"M120-120v-720h720v720H120Zm60-500h600v-160H180v160Zm220 220h160v-160H400v160Zm0 220h160v-160H400v160ZM180-400h160v-160H180v160Zm440 0h160v-160H620v160ZM180-180h160v-160H180v160Zm440 0h160v-160H620v160Z\"/>\n",
              "  </svg>\n",
              "    </button>\n",
              "\n",
              "  <style>\n",
              "    .colab-df-container {\n",
              "      display:flex;\n",
              "      gap: 12px;\n",
              "    }\n",
              "\n",
              "    .colab-df-convert {\n",
              "      background-color: #E8F0FE;\n",
              "      border: none;\n",
              "      border-radius: 50%;\n",
              "      cursor: pointer;\n",
              "      display: none;\n",
              "      fill: #1967D2;\n",
              "      height: 32px;\n",
              "      padding: 0 0 0 0;\n",
              "      width: 32px;\n",
              "    }\n",
              "\n",
              "    .colab-df-convert:hover {\n",
              "      background-color: #E2EBFA;\n",
              "      box-shadow: 0px 1px 2px rgba(60, 64, 67, 0.3), 0px 1px 3px 1px rgba(60, 64, 67, 0.15);\n",
              "      fill: #174EA6;\n",
              "    }\n",
              "\n",
              "    .colab-df-buttons div {\n",
              "      margin-bottom: 4px;\n",
              "    }\n",
              "\n",
              "    [theme=dark] .colab-df-convert {\n",
              "      background-color: #3B4455;\n",
              "      fill: #D2E3FC;\n",
              "    }\n",
              "\n",
              "    [theme=dark] .colab-df-convert:hover {\n",
              "      background-color: #434B5C;\n",
              "      box-shadow: 0px 1px 3px 1px rgba(0, 0, 0, 0.15);\n",
              "      filter: drop-shadow(0px 1px 2px rgba(0, 0, 0, 0.3));\n",
              "      fill: #FFFFFF;\n",
              "    }\n",
              "  </style>\n",
              "\n",
              "    <script>\n",
              "      const buttonEl =\n",
              "        document.querySelector('#df-a0bb6ade-d7fa-4dbd-85bd-e8810dd4cb23 button.colab-df-convert');\n",
              "      buttonEl.style.display =\n",
              "        google.colab.kernel.accessAllowed ? 'block' : 'none';\n",
              "\n",
              "      async function convertToInteractive(key) {\n",
              "        const element = document.querySelector('#df-a0bb6ade-d7fa-4dbd-85bd-e8810dd4cb23');\n",
              "        const dataTable =\n",
              "          await google.colab.kernel.invokeFunction('convertToInteractive',\n",
              "                                                    [key], {});\n",
              "        if (!dataTable) return;\n",
              "\n",
              "        const docLinkHtml = 'Like what you see? Visit the ' +\n",
              "          '<a target=\"_blank\" href=https://colab.research.google.com/notebooks/data_table.ipynb>data table notebook</a>'\n",
              "          + ' to learn more about interactive tables.';\n",
              "        element.innerHTML = '';\n",
              "        dataTable['output_type'] = 'display_data';\n",
              "        await google.colab.output.renderOutput(dataTable, element);\n",
              "        const docLink = document.createElement('div');\n",
              "        docLink.innerHTML = docLinkHtml;\n",
              "        element.appendChild(docLink);\n",
              "      }\n",
              "    </script>\n",
              "  </div>\n",
              "\n",
              "\n",
              "<div id=\"df-f888ead4-c535-4056-bb91-3c0ba46c7704\">\n",
              "  <button class=\"colab-df-quickchart\" onclick=\"quickchart('df-f888ead4-c535-4056-bb91-3c0ba46c7704')\"\n",
              "            title=\"Suggest charts\"\n",
              "            style=\"display:none;\">\n",
              "\n",
              "<svg xmlns=\"http://www.w3.org/2000/svg\" height=\"24px\"viewBox=\"0 0 24 24\"\n",
              "     width=\"24px\">\n",
              "    <g>\n",
              "        <path d=\"M19 3H5c-1.1 0-2 .9-2 2v14c0 1.1.9 2 2 2h14c1.1 0 2-.9 2-2V5c0-1.1-.9-2-2-2zM9 17H7v-7h2v7zm4 0h-2V7h2v10zm4 0h-2v-4h2v4z\"/>\n",
              "    </g>\n",
              "</svg>\n",
              "  </button>\n",
              "\n",
              "<style>\n",
              "  .colab-df-quickchart {\n",
              "      --bg-color: #E8F0FE;\n",
              "      --fill-color: #1967D2;\n",
              "      --hover-bg-color: #E2EBFA;\n",
              "      --hover-fill-color: #174EA6;\n",
              "      --disabled-fill-color: #AAA;\n",
              "      --disabled-bg-color: #DDD;\n",
              "  }\n",
              "\n",
              "  [theme=dark] .colab-df-quickchart {\n",
              "      --bg-color: #3B4455;\n",
              "      --fill-color: #D2E3FC;\n",
              "      --hover-bg-color: #434B5C;\n",
              "      --hover-fill-color: #FFFFFF;\n",
              "      --disabled-bg-color: #3B4455;\n",
              "      --disabled-fill-color: #666;\n",
              "  }\n",
              "\n",
              "  .colab-df-quickchart {\n",
              "    background-color: var(--bg-color);\n",
              "    border: none;\n",
              "    border-radius: 50%;\n",
              "    cursor: pointer;\n",
              "    display: none;\n",
              "    fill: var(--fill-color);\n",
              "    height: 32px;\n",
              "    padding: 0;\n",
              "    width: 32px;\n",
              "  }\n",
              "\n",
              "  .colab-df-quickchart:hover {\n",
              "    background-color: var(--hover-bg-color);\n",
              "    box-shadow: 0 1px 2px rgba(60, 64, 67, 0.3), 0 1px 3px 1px rgba(60, 64, 67, 0.15);\n",
              "    fill: var(--button-hover-fill-color);\n",
              "  }\n",
              "\n",
              "  .colab-df-quickchart-complete:disabled,\n",
              "  .colab-df-quickchart-complete:disabled:hover {\n",
              "    background-color: var(--disabled-bg-color);\n",
              "    fill: var(--disabled-fill-color);\n",
              "    box-shadow: none;\n",
              "  }\n",
              "\n",
              "  .colab-df-spinner {\n",
              "    border: 2px solid var(--fill-color);\n",
              "    border-color: transparent;\n",
              "    border-bottom-color: var(--fill-color);\n",
              "    animation:\n",
              "      spin 1s steps(1) infinite;\n",
              "  }\n",
              "\n",
              "  @keyframes spin {\n",
              "    0% {\n",
              "      border-color: transparent;\n",
              "      border-bottom-color: var(--fill-color);\n",
              "      border-left-color: var(--fill-color);\n",
              "    }\n",
              "    20% {\n",
              "      border-color: transparent;\n",
              "      border-left-color: var(--fill-color);\n",
              "      border-top-color: var(--fill-color);\n",
              "    }\n",
              "    30% {\n",
              "      border-color: transparent;\n",
              "      border-left-color: var(--fill-color);\n",
              "      border-top-color: var(--fill-color);\n",
              "      border-right-color: var(--fill-color);\n",
              "    }\n",
              "    40% {\n",
              "      border-color: transparent;\n",
              "      border-right-color: var(--fill-color);\n",
              "      border-top-color: var(--fill-color);\n",
              "    }\n",
              "    60% {\n",
              "      border-color: transparent;\n",
              "      border-right-color: var(--fill-color);\n",
              "    }\n",
              "    80% {\n",
              "      border-color: transparent;\n",
              "      border-right-color: var(--fill-color);\n",
              "      border-bottom-color: var(--fill-color);\n",
              "    }\n",
              "    90% {\n",
              "      border-color: transparent;\n",
              "      border-bottom-color: var(--fill-color);\n",
              "    }\n",
              "  }\n",
              "</style>\n",
              "\n",
              "  <script>\n",
              "    async function quickchart(key) {\n",
              "      const quickchartButtonEl =\n",
              "        document.querySelector('#' + key + ' button');\n",
              "      quickchartButtonEl.disabled = true;  // To prevent multiple clicks.\n",
              "      quickchartButtonEl.classList.add('colab-df-spinner');\n",
              "      try {\n",
              "        const charts = await google.colab.kernel.invokeFunction(\n",
              "            'suggestCharts', [key], {});\n",
              "      } catch (error) {\n",
              "        console.error('Error during call to suggestCharts:', error);\n",
              "      }\n",
              "      quickchartButtonEl.classList.remove('colab-df-spinner');\n",
              "      quickchartButtonEl.classList.add('colab-df-quickchart-complete');\n",
              "    }\n",
              "    (() => {\n",
              "      let quickchartButtonEl =\n",
              "        document.querySelector('#df-f888ead4-c535-4056-bb91-3c0ba46c7704 button');\n",
              "      quickchartButtonEl.style.display =\n",
              "        google.colab.kernel.accessAllowed ? 'block' : 'none';\n",
              "    })();\n",
              "  </script>\n",
              "</div>\n",
              "\n",
              "  <div id=\"id_9d2fd14e-4ecd-49f7-8d0c-95f39651d565\">\n",
              "    <style>\n",
              "      .colab-df-generate {\n",
              "        background-color: #E8F0FE;\n",
              "        border: none;\n",
              "        border-radius: 50%;\n",
              "        cursor: pointer;\n",
              "        display: none;\n",
              "        fill: #1967D2;\n",
              "        height: 32px;\n",
              "        padding: 0 0 0 0;\n",
              "        width: 32px;\n",
              "      }\n",
              "\n",
              "      .colab-df-generate:hover {\n",
              "        background-color: #E2EBFA;\n",
              "        box-shadow: 0px 1px 2px rgba(60, 64, 67, 0.3), 0px 1px 3px 1px rgba(60, 64, 67, 0.15);\n",
              "        fill: #174EA6;\n",
              "      }\n",
              "\n",
              "      [theme=dark] .colab-df-generate {\n",
              "        background-color: #3B4455;\n",
              "        fill: #D2E3FC;\n",
              "      }\n",
              "\n",
              "      [theme=dark] .colab-df-generate:hover {\n",
              "        background-color: #434B5C;\n",
              "        box-shadow: 0px 1px 3px 1px rgba(0, 0, 0, 0.15);\n",
              "        filter: drop-shadow(0px 1px 2px rgba(0, 0, 0, 0.3));\n",
              "        fill: #FFFFFF;\n",
              "      }\n",
              "    </style>\n",
              "    <button class=\"colab-df-generate\" onclick=\"generateWithVariable('dados')\"\n",
              "            title=\"Generate code using this dataframe.\"\n",
              "            style=\"display:none;\">\n",
              "\n",
              "  <svg xmlns=\"http://www.w3.org/2000/svg\" height=\"24px\"viewBox=\"0 0 24 24\"\n",
              "       width=\"24px\">\n",
              "    <path d=\"M7,19H8.4L18.45,9,17,7.55,7,17.6ZM5,21V16.75L18.45,3.32a2,2,0,0,1,2.83,0l1.4,1.43a1.91,1.91,0,0,1,.58,1.4,1.91,1.91,0,0,1-.58,1.4L9.25,21ZM18.45,9,17,7.55Zm-12,3A5.31,5.31,0,0,0,4.9,8.1,5.31,5.31,0,0,0,1,6.5,5.31,5.31,0,0,0,4.9,4.9,5.31,5.31,0,0,0,6.5,1,5.31,5.31,0,0,0,8.1,4.9,5.31,5.31,0,0,0,12,6.5,5.46,5.46,0,0,0,6.5,12Z\"/>\n",
              "  </svg>\n",
              "    </button>\n",
              "    <script>\n",
              "      (() => {\n",
              "      const buttonEl =\n",
              "        document.querySelector('#id_9d2fd14e-4ecd-49f7-8d0c-95f39651d565 button.colab-df-generate');\n",
              "      buttonEl.style.display =\n",
              "        google.colab.kernel.accessAllowed ? 'block' : 'none';\n",
              "\n",
              "      buttonEl.onclick = () => {\n",
              "        google.colab.notebook.generateWithVariable('dados');\n",
              "      }\n",
              "      })();\n",
              "    </script>\n",
              "  </div>\n",
              "\n",
              "    </div>\n",
              "  </div>\n"
            ],
            "application/vnd.google.colaboratory.intrinsic+json": {
              "type": "dataframe",
              "variable_name": "dados",
              "summary": "{\n  \"name\": \"dados\",\n  \"rows\": 6,\n  \"fields\": [\n    {\n      \"column\": \"Pagina\",\n      \"properties\": {\n        \"dtype\": \"string\",\n        \"num_unique_values\": 6,\n        \"samples\": [\n          \"Controle\",\n          \"Teste B - Grupo 1\",\n          \"Teste B - Grupo 5\"\n        ],\n        \"semantic_type\": \"\",\n        \"description\": \"\"\n      }\n    },\n    {\n      \"column\": \"Sessoes\",\n      \"properties\": {\n        \"dtype\": \"number\",\n        \"std\": 2504,\n        \"min\": 278,\n        \"max\": 6491,\n        \"num_unique_values\": 6,\n        \"samples\": [\n          6491,\n          460,\n          278\n        ],\n        \"semantic_type\": \"\",\n        \"description\": \"\"\n      }\n    },\n    {\n      \"column\": \"Data inicial\",\n      \"properties\": {\n        \"dtype\": \"object\",\n        \"num_unique_values\": 1,\n        \"samples\": [\n          \"04/06/2024\"\n        ],\n        \"semantic_type\": \"\",\n        \"description\": \"\"\n      }\n    },\n    {\n      \"column\": \"Data final\",\n      \"properties\": {\n        \"dtype\": \"object\",\n        \"num_unique_values\": 1,\n        \"samples\": [\n          \"11/06/2024\"\n        ],\n        \"semantic_type\": \"\",\n        \"description\": \"\"\n      }\n    },\n    {\n      \"column\": \"Conversoes\",\n      \"properties\": {\n        \"dtype\": \"number\",\n        \"std\": 212,\n        \"min\": 15,\n        \"max\": 541,\n        \"num_unique_values\": 5,\n        \"samples\": [\n          28\n        ],\n        \"semantic_type\": \"\",\n        \"description\": \"\"\n      }\n    }\n  ]\n}"
            }
          },
          "metadata": {},
          "execution_count": 32
        }
      ]
    },
    {
      "cell_type": "markdown",
      "source": [
        "### 4.6. Calculando a taxa de conversão"
      ],
      "metadata": {
        "id": "4hukcZNsXYEx"
      }
    },
    {
      "cell_type": "code",
      "source": [
        "dados['taxa_conversao'] = ((dados['Conversoes'] / dados['Sessoes']) * 100).round(2)\n",
        "dados"
      ],
      "metadata": {
        "colab": {
          "base_uri": "https://localhost:8080/",
          "height": 238
        },
        "outputId": "e7800f22-ece8-464f-fe96-187636c565e9",
        "id": "q0XlnahZXYEx"
      },
      "execution_count": null,
      "outputs": [
        {
          "output_type": "execute_result",
          "data": {
            "text/plain": [
              "              Pagina  Sessoes Data inicial  Data final  Conversoes  \\\n",
              "0           Controle     6491   04/06/2024  11/06/2024         541   \n",
              "1  Teste B - Grupo 1      460   04/06/2024  11/06/2024          28   \n",
              "2  Teste B - Grupo 2      303   04/06/2024  11/06/2024          19   \n",
              "3  Teste B - Grupo 3      443   04/06/2024  11/06/2024          26   \n",
              "4  Teste B - Grupo 4      309   04/06/2024  11/06/2024          19   \n",
              "5  Teste B - Grupo 5      278   04/06/2024  11/06/2024          15   \n",
              "\n",
              "   taxa_conversao  \n",
              "0            8.33  \n",
              "1            6.09  \n",
              "2            6.27  \n",
              "3            5.87  \n",
              "4            6.15  \n",
              "5            5.40  "
            ],
            "text/html": [
              "\n",
              "  <div id=\"df-7d239ff4-498e-4ec6-898f-60639558770a\" class=\"colab-df-container\">\n",
              "    <div>\n",
              "<style scoped>\n",
              "    .dataframe tbody tr th:only-of-type {\n",
              "        vertical-align: middle;\n",
              "    }\n",
              "\n",
              "    .dataframe tbody tr th {\n",
              "        vertical-align: top;\n",
              "    }\n",
              "\n",
              "    .dataframe thead th {\n",
              "        text-align: right;\n",
              "    }\n",
              "</style>\n",
              "<table border=\"1\" class=\"dataframe\">\n",
              "  <thead>\n",
              "    <tr style=\"text-align: right;\">\n",
              "      <th></th>\n",
              "      <th>Pagina</th>\n",
              "      <th>Sessoes</th>\n",
              "      <th>Data inicial</th>\n",
              "      <th>Data final</th>\n",
              "      <th>Conversoes</th>\n",
              "      <th>taxa_conversao</th>\n",
              "    </tr>\n",
              "  </thead>\n",
              "  <tbody>\n",
              "    <tr>\n",
              "      <th>0</th>\n",
              "      <td>Controle</td>\n",
              "      <td>6491</td>\n",
              "      <td>04/06/2024</td>\n",
              "      <td>11/06/2024</td>\n",
              "      <td>541</td>\n",
              "      <td>8.33</td>\n",
              "    </tr>\n",
              "    <tr>\n",
              "      <th>1</th>\n",
              "      <td>Teste B - Grupo 1</td>\n",
              "      <td>460</td>\n",
              "      <td>04/06/2024</td>\n",
              "      <td>11/06/2024</td>\n",
              "      <td>28</td>\n",
              "      <td>6.09</td>\n",
              "    </tr>\n",
              "    <tr>\n",
              "      <th>2</th>\n",
              "      <td>Teste B - Grupo 2</td>\n",
              "      <td>303</td>\n",
              "      <td>04/06/2024</td>\n",
              "      <td>11/06/2024</td>\n",
              "      <td>19</td>\n",
              "      <td>6.27</td>\n",
              "    </tr>\n",
              "    <tr>\n",
              "      <th>3</th>\n",
              "      <td>Teste B - Grupo 3</td>\n",
              "      <td>443</td>\n",
              "      <td>04/06/2024</td>\n",
              "      <td>11/06/2024</td>\n",
              "      <td>26</td>\n",
              "      <td>5.87</td>\n",
              "    </tr>\n",
              "    <tr>\n",
              "      <th>4</th>\n",
              "      <td>Teste B - Grupo 4</td>\n",
              "      <td>309</td>\n",
              "      <td>04/06/2024</td>\n",
              "      <td>11/06/2024</td>\n",
              "      <td>19</td>\n",
              "      <td>6.15</td>\n",
              "    </tr>\n",
              "    <tr>\n",
              "      <th>5</th>\n",
              "      <td>Teste B - Grupo 5</td>\n",
              "      <td>278</td>\n",
              "      <td>04/06/2024</td>\n",
              "      <td>11/06/2024</td>\n",
              "      <td>15</td>\n",
              "      <td>5.40</td>\n",
              "    </tr>\n",
              "  </tbody>\n",
              "</table>\n",
              "</div>\n",
              "    <div class=\"colab-df-buttons\">\n",
              "\n",
              "  <div class=\"colab-df-container\">\n",
              "    <button class=\"colab-df-convert\" onclick=\"convertToInteractive('df-7d239ff4-498e-4ec6-898f-60639558770a')\"\n",
              "            title=\"Convert this dataframe to an interactive table.\"\n",
              "            style=\"display:none;\">\n",
              "\n",
              "  <svg xmlns=\"http://www.w3.org/2000/svg\" height=\"24px\" viewBox=\"0 -960 960 960\">\n",
              "    <path d=\"M120-120v-720h720v720H120Zm60-500h600v-160H180v160Zm220 220h160v-160H400v160Zm0 220h160v-160H400v160ZM180-400h160v-160H180v160Zm440 0h160v-160H620v160ZM180-180h160v-160H180v160Zm440 0h160v-160H620v160Z\"/>\n",
              "  </svg>\n",
              "    </button>\n",
              "\n",
              "  <style>\n",
              "    .colab-df-container {\n",
              "      display:flex;\n",
              "      gap: 12px;\n",
              "    }\n",
              "\n",
              "    .colab-df-convert {\n",
              "      background-color: #E8F0FE;\n",
              "      border: none;\n",
              "      border-radius: 50%;\n",
              "      cursor: pointer;\n",
              "      display: none;\n",
              "      fill: #1967D2;\n",
              "      height: 32px;\n",
              "      padding: 0 0 0 0;\n",
              "      width: 32px;\n",
              "    }\n",
              "\n",
              "    .colab-df-convert:hover {\n",
              "      background-color: #E2EBFA;\n",
              "      box-shadow: 0px 1px 2px rgba(60, 64, 67, 0.3), 0px 1px 3px 1px rgba(60, 64, 67, 0.15);\n",
              "      fill: #174EA6;\n",
              "    }\n",
              "\n",
              "    .colab-df-buttons div {\n",
              "      margin-bottom: 4px;\n",
              "    }\n",
              "\n",
              "    [theme=dark] .colab-df-convert {\n",
              "      background-color: #3B4455;\n",
              "      fill: #D2E3FC;\n",
              "    }\n",
              "\n",
              "    [theme=dark] .colab-df-convert:hover {\n",
              "      background-color: #434B5C;\n",
              "      box-shadow: 0px 1px 3px 1px rgba(0, 0, 0, 0.15);\n",
              "      filter: drop-shadow(0px 1px 2px rgba(0, 0, 0, 0.3));\n",
              "      fill: #FFFFFF;\n",
              "    }\n",
              "  </style>\n",
              "\n",
              "    <script>\n",
              "      const buttonEl =\n",
              "        document.querySelector('#df-7d239ff4-498e-4ec6-898f-60639558770a button.colab-df-convert');\n",
              "      buttonEl.style.display =\n",
              "        google.colab.kernel.accessAllowed ? 'block' : 'none';\n",
              "\n",
              "      async function convertToInteractive(key) {\n",
              "        const element = document.querySelector('#df-7d239ff4-498e-4ec6-898f-60639558770a');\n",
              "        const dataTable =\n",
              "          await google.colab.kernel.invokeFunction('convertToInteractive',\n",
              "                                                    [key], {});\n",
              "        if (!dataTable) return;\n",
              "\n",
              "        const docLinkHtml = 'Like what you see? Visit the ' +\n",
              "          '<a target=\"_blank\" href=https://colab.research.google.com/notebooks/data_table.ipynb>data table notebook</a>'\n",
              "          + ' to learn more about interactive tables.';\n",
              "        element.innerHTML = '';\n",
              "        dataTable['output_type'] = 'display_data';\n",
              "        await google.colab.output.renderOutput(dataTable, element);\n",
              "        const docLink = document.createElement('div');\n",
              "        docLink.innerHTML = docLinkHtml;\n",
              "        element.appendChild(docLink);\n",
              "      }\n",
              "    </script>\n",
              "  </div>\n",
              "\n",
              "\n",
              "<div id=\"df-0d0de3ae-9f5b-43ad-afc0-79816a89caeb\">\n",
              "  <button class=\"colab-df-quickchart\" onclick=\"quickchart('df-0d0de3ae-9f5b-43ad-afc0-79816a89caeb')\"\n",
              "            title=\"Suggest charts\"\n",
              "            style=\"display:none;\">\n",
              "\n",
              "<svg xmlns=\"http://www.w3.org/2000/svg\" height=\"24px\"viewBox=\"0 0 24 24\"\n",
              "     width=\"24px\">\n",
              "    <g>\n",
              "        <path d=\"M19 3H5c-1.1 0-2 .9-2 2v14c0 1.1.9 2 2 2h14c1.1 0 2-.9 2-2V5c0-1.1-.9-2-2-2zM9 17H7v-7h2v7zm4 0h-2V7h2v10zm4 0h-2v-4h2v4z\"/>\n",
              "    </g>\n",
              "</svg>\n",
              "  </button>\n",
              "\n",
              "<style>\n",
              "  .colab-df-quickchart {\n",
              "      --bg-color: #E8F0FE;\n",
              "      --fill-color: #1967D2;\n",
              "      --hover-bg-color: #E2EBFA;\n",
              "      --hover-fill-color: #174EA6;\n",
              "      --disabled-fill-color: #AAA;\n",
              "      --disabled-bg-color: #DDD;\n",
              "  }\n",
              "\n",
              "  [theme=dark] .colab-df-quickchart {\n",
              "      --bg-color: #3B4455;\n",
              "      --fill-color: #D2E3FC;\n",
              "      --hover-bg-color: #434B5C;\n",
              "      --hover-fill-color: #FFFFFF;\n",
              "      --disabled-bg-color: #3B4455;\n",
              "      --disabled-fill-color: #666;\n",
              "  }\n",
              "\n",
              "  .colab-df-quickchart {\n",
              "    background-color: var(--bg-color);\n",
              "    border: none;\n",
              "    border-radius: 50%;\n",
              "    cursor: pointer;\n",
              "    display: none;\n",
              "    fill: var(--fill-color);\n",
              "    height: 32px;\n",
              "    padding: 0;\n",
              "    width: 32px;\n",
              "  }\n",
              "\n",
              "  .colab-df-quickchart:hover {\n",
              "    background-color: var(--hover-bg-color);\n",
              "    box-shadow: 0 1px 2px rgba(60, 64, 67, 0.3), 0 1px 3px 1px rgba(60, 64, 67, 0.15);\n",
              "    fill: var(--button-hover-fill-color);\n",
              "  }\n",
              "\n",
              "  .colab-df-quickchart-complete:disabled,\n",
              "  .colab-df-quickchart-complete:disabled:hover {\n",
              "    background-color: var(--disabled-bg-color);\n",
              "    fill: var(--disabled-fill-color);\n",
              "    box-shadow: none;\n",
              "  }\n",
              "\n",
              "  .colab-df-spinner {\n",
              "    border: 2px solid var(--fill-color);\n",
              "    border-color: transparent;\n",
              "    border-bottom-color: var(--fill-color);\n",
              "    animation:\n",
              "      spin 1s steps(1) infinite;\n",
              "  }\n",
              "\n",
              "  @keyframes spin {\n",
              "    0% {\n",
              "      border-color: transparent;\n",
              "      border-bottom-color: var(--fill-color);\n",
              "      border-left-color: var(--fill-color);\n",
              "    }\n",
              "    20% {\n",
              "      border-color: transparent;\n",
              "      border-left-color: var(--fill-color);\n",
              "      border-top-color: var(--fill-color);\n",
              "    }\n",
              "    30% {\n",
              "      border-color: transparent;\n",
              "      border-left-color: var(--fill-color);\n",
              "      border-top-color: var(--fill-color);\n",
              "      border-right-color: var(--fill-color);\n",
              "    }\n",
              "    40% {\n",
              "      border-color: transparent;\n",
              "      border-right-color: var(--fill-color);\n",
              "      border-top-color: var(--fill-color);\n",
              "    }\n",
              "    60% {\n",
              "      border-color: transparent;\n",
              "      border-right-color: var(--fill-color);\n",
              "    }\n",
              "    80% {\n",
              "      border-color: transparent;\n",
              "      border-right-color: var(--fill-color);\n",
              "      border-bottom-color: var(--fill-color);\n",
              "    }\n",
              "    90% {\n",
              "      border-color: transparent;\n",
              "      border-bottom-color: var(--fill-color);\n",
              "    }\n",
              "  }\n",
              "</style>\n",
              "\n",
              "  <script>\n",
              "    async function quickchart(key) {\n",
              "      const quickchartButtonEl =\n",
              "        document.querySelector('#' + key + ' button');\n",
              "      quickchartButtonEl.disabled = true;  // To prevent multiple clicks.\n",
              "      quickchartButtonEl.classList.add('colab-df-spinner');\n",
              "      try {\n",
              "        const charts = await google.colab.kernel.invokeFunction(\n",
              "            'suggestCharts', [key], {});\n",
              "      } catch (error) {\n",
              "        console.error('Error during call to suggestCharts:', error);\n",
              "      }\n",
              "      quickchartButtonEl.classList.remove('colab-df-spinner');\n",
              "      quickchartButtonEl.classList.add('colab-df-quickchart-complete');\n",
              "    }\n",
              "    (() => {\n",
              "      let quickchartButtonEl =\n",
              "        document.querySelector('#df-0d0de3ae-9f5b-43ad-afc0-79816a89caeb button');\n",
              "      quickchartButtonEl.style.display =\n",
              "        google.colab.kernel.accessAllowed ? 'block' : 'none';\n",
              "    })();\n",
              "  </script>\n",
              "</div>\n",
              "\n",
              "  <div id=\"id_afbb8e25-6966-412e-a318-84ce5c6f40e4\">\n",
              "    <style>\n",
              "      .colab-df-generate {\n",
              "        background-color: #E8F0FE;\n",
              "        border: none;\n",
              "        border-radius: 50%;\n",
              "        cursor: pointer;\n",
              "        display: none;\n",
              "        fill: #1967D2;\n",
              "        height: 32px;\n",
              "        padding: 0 0 0 0;\n",
              "        width: 32px;\n",
              "      }\n",
              "\n",
              "      .colab-df-generate:hover {\n",
              "        background-color: #E2EBFA;\n",
              "        box-shadow: 0px 1px 2px rgba(60, 64, 67, 0.3), 0px 1px 3px 1px rgba(60, 64, 67, 0.15);\n",
              "        fill: #174EA6;\n",
              "      }\n",
              "\n",
              "      [theme=dark] .colab-df-generate {\n",
              "        background-color: #3B4455;\n",
              "        fill: #D2E3FC;\n",
              "      }\n",
              "\n",
              "      [theme=dark] .colab-df-generate:hover {\n",
              "        background-color: #434B5C;\n",
              "        box-shadow: 0px 1px 3px 1px rgba(0, 0, 0, 0.15);\n",
              "        filter: drop-shadow(0px 1px 2px rgba(0, 0, 0, 0.3));\n",
              "        fill: #FFFFFF;\n",
              "      }\n",
              "    </style>\n",
              "    <button class=\"colab-df-generate\" onclick=\"generateWithVariable('dados')\"\n",
              "            title=\"Generate code using this dataframe.\"\n",
              "            style=\"display:none;\">\n",
              "\n",
              "  <svg xmlns=\"http://www.w3.org/2000/svg\" height=\"24px\"viewBox=\"0 0 24 24\"\n",
              "       width=\"24px\">\n",
              "    <path d=\"M7,19H8.4L18.45,9,17,7.55,7,17.6ZM5,21V16.75L18.45,3.32a2,2,0,0,1,2.83,0l1.4,1.43a1.91,1.91,0,0,1,.58,1.4,1.91,1.91,0,0,1-.58,1.4L9.25,21ZM18.45,9,17,7.55Zm-12,3A5.31,5.31,0,0,0,4.9,8.1,5.31,5.31,0,0,0,1,6.5,5.31,5.31,0,0,0,4.9,4.9,5.31,5.31,0,0,0,6.5,1,5.31,5.31,0,0,0,8.1,4.9,5.31,5.31,0,0,0,12,6.5,5.46,5.46,0,0,0,6.5,12Z\"/>\n",
              "  </svg>\n",
              "    </button>\n",
              "    <script>\n",
              "      (() => {\n",
              "      const buttonEl =\n",
              "        document.querySelector('#id_afbb8e25-6966-412e-a318-84ce5c6f40e4 button.colab-df-generate');\n",
              "      buttonEl.style.display =\n",
              "        google.colab.kernel.accessAllowed ? 'block' : 'none';\n",
              "\n",
              "      buttonEl.onclick = () => {\n",
              "        google.colab.notebook.generateWithVariable('dados');\n",
              "      }\n",
              "      })();\n",
              "    </script>\n",
              "  </div>\n",
              "\n",
              "    </div>\n",
              "  </div>\n"
            ],
            "application/vnd.google.colaboratory.intrinsic+json": {
              "type": "dataframe",
              "variable_name": "dados",
              "summary": "{\n  \"name\": \"dados\",\n  \"rows\": 6,\n  \"fields\": [\n    {\n      \"column\": \"Pagina\",\n      \"properties\": {\n        \"dtype\": \"string\",\n        \"num_unique_values\": 6,\n        \"samples\": [\n          \"Controle\",\n          \"Teste B - Grupo 1\",\n          \"Teste B - Grupo 5\"\n        ],\n        \"semantic_type\": \"\",\n        \"description\": \"\"\n      }\n    },\n    {\n      \"column\": \"Sessoes\",\n      \"properties\": {\n        \"dtype\": \"number\",\n        \"std\": 2504,\n        \"min\": 278,\n        \"max\": 6491,\n        \"num_unique_values\": 6,\n        \"samples\": [\n          6491,\n          460,\n          278\n        ],\n        \"semantic_type\": \"\",\n        \"description\": \"\"\n      }\n    },\n    {\n      \"column\": \"Data inicial\",\n      \"properties\": {\n        \"dtype\": \"object\",\n        \"num_unique_values\": 1,\n        \"samples\": [\n          \"04/06/2024\"\n        ],\n        \"semantic_type\": \"\",\n        \"description\": \"\"\n      }\n    },\n    {\n      \"column\": \"Data final\",\n      \"properties\": {\n        \"dtype\": \"object\",\n        \"num_unique_values\": 1,\n        \"samples\": [\n          \"11/06/2024\"\n        ],\n        \"semantic_type\": \"\",\n        \"description\": \"\"\n      }\n    },\n    {\n      \"column\": \"Conversoes\",\n      \"properties\": {\n        \"dtype\": \"number\",\n        \"std\": 212,\n        \"min\": 15,\n        \"max\": 541,\n        \"num_unique_values\": 5,\n        \"samples\": [\n          28\n        ],\n        \"semantic_type\": \"\",\n        \"description\": \"\"\n      }\n    },\n    {\n      \"column\": \"taxa_conversao\",\n      \"properties\": {\n        \"dtype\": \"number\",\n        \"std\": 1.0165907075449128,\n        \"min\": 5.4,\n        \"max\": 8.33,\n        \"num_unique_values\": 6,\n        \"samples\": [\n          8.33\n        ],\n        \"semantic_type\": \"\",\n        \"description\": \"\"\n      }\n    }\n  ]\n}"
            }
          },
          "metadata": {},
          "execution_count": 34
        }
      ]
    },
    {
      "cell_type": "markdown",
      "source": [
        "## 5. Descrição dos dados"
      ],
      "metadata": {
        "id": "ZGt8z9QkwTka"
      }
    },
    {
      "cell_type": "code",
      "source": [
        "# Estatísticas descritivas para sessões\n",
        "media_sessoes = dados['Sessoes'].mean()\n",
        "desvio_padrao_sessoes = dados['Sessoes'].std()\n",
        "mediana_sessoes = dados['Sessoes'].median()\n",
        "min_sessoes = dados['Sessoes'].min()\n",
        "max_sessoes = dados['Sessoes'].max()\n",
        "\n",
        "# Estatísticas descritivas para conversões\n",
        "media_conversoes = dados['Conversoes'].mean()\n",
        "desvio_padrao_conversoes = dados['Conversoes'].std()\n",
        "mediana_conversoes = dados['Conversoes'].median()\n",
        "min_conversoes = dados['Conversoes'].min()\n",
        "max_conversoes = dados['Conversoes'].max()\n",
        "\n",
        "# Estatísticas descritivas para taxa de conversão\n",
        "media_taxa_conversao = dados['taxa_conversao'].mean()\n",
        "desvio_padrao_taxa_conversao = dados['taxa_conversao'].std()\n",
        "mediana_taxa_conversao = dados['taxa_conversao'].median()\n",
        "min_taxa_conversao = dados['taxa_conversao'].min()\n",
        "max_taxa_conversao = dados['taxa_conversao'].max()\n",
        "\n",
        "# Imprimir as estatísticas descritivas\n",
        "print(\"Estatísticas Descritivas para Sessões:\")\n",
        "print(f\"Média: {media_sessoes}\")\n",
        "print(f\"Desvio Padrão: {desvio_padrao_sessoes}\")\n",
        "print(f\"Mediana: {mediana_sessoes}\")\n",
        "print(f\"Min: {min_sessoes}\")\n",
        "print(f\"Max: {max_sessoes}\")\n",
        "\n",
        "print(\"\\nEstatísticas Descritivas para Conversões:\")\n",
        "print(f\"Média: {media_conversoes}\")\n",
        "print(f\"Desvio Padrão: {desvio_padrao_conversoes}\")\n",
        "print(f\"Mediana: {mediana_conversoes}\")\n",
        "print(f\"Min: {min_conversoes}\")\n",
        "print(f\"Max: {max_conversoes}\")\n",
        "\n",
        "print(\"\\nEstatísticas Descritivas para Taxa de Conversão:\")\n",
        "print(f\"Média: {media_taxa_conversao}%\")\n",
        "print(f\"Desvio Padrão: {desvio_padrao_taxa_conversao}%\")\n",
        "print(f\"Mediana: {mediana_taxa_conversao}%\")\n",
        "print(f\"Min: {min_taxa_conversao}%\")\n",
        "print(f\"Max: {max_taxa_conversao}%\")"
      ],
      "metadata": {
        "colab": {
          "base_uri": "https://localhost:8080/"
        },
        "id": "XRn2ppfvwcCR",
        "outputId": "7af5ec41-1710-4801-965d-142e5123831a"
      },
      "execution_count": null,
      "outputs": [
        {
          "output_type": "stream",
          "name": "stdout",
          "text": [
            "Estatísticas Descritivas para Sessões:\n",
            "Média: 1380.6666666666667\n",
            "Desvio Padrão: 2504.7180014258424\n",
            "Mediana: 376.0\n",
            "Min: 278\n",
            "Max: 6491\n",
            "\n",
            "Estatísticas Descritivas para Conversões:\n",
            "Média: 108.0\n",
            "Desvio Padrão: 212.1810547622007\n",
            "Mediana: 22.5\n",
            "Min: 15\n",
            "Max: 541\n",
            "\n",
            "Estatísticas Descritivas para Taxa de Conversão:\n",
            "Média: 6.351666666666667%\n",
            "Desvio Padrão: 1.0165907075449128%\n",
            "Mediana: 6.12%\n",
            "Min: 5.4%\n",
            "Max: 8.33%\n"
          ]
        }
      ]
    },
    {
      "cell_type": "markdown",
      "source": [
        "## 6. Testes estatísticos"
      ],
      "metadata": {
        "id": "bfBPeG9BXYEy"
      }
    },
    {
      "cell_type": "markdown",
      "source": [
        "### 6.1 Teste t"
      ],
      "metadata": {
        "id": "Hrojr47-XYEy"
      }
    },
    {
      "cell_type": "markdown",
      "source": [
        "**Hipótese nula (𝐻0):** A alteração na página (proposta B) não teve um impacto significativo na taxa de conversão (as taxas de conversão dos grupos de controle e experimental são iguais).\n",
        "\n",
        "**Hipótese alternativa (𝐻𝐴):** A alteração na página (proposta B) teve um impacto significativo na taxa de conversão (as taxas de conversão dos grupos de controle e experimental são diferentes)."
      ],
      "metadata": {
        "id": "96iDDJLQXYEy"
      }
    },
    {
      "cell_type": "markdown",
      "source": [
        "A escolha de utilizar o teste t para proporções em vez do teste t convencional se deve à natureza dos dados de conversão. Em testes A/B que avaliam taxas de conversão, estamos lidando com proporções, onde cada conversão é um evento binário (sucesso ou falha) e as taxas de conversão representam a proporção de sucessos em relação ao total de tentativas (sessões).\n",
        "\n",
        "O teste t convencional é mais adequado para comparar médias de dados contínuos, enquanto o teste t de proporções leva em conta a natureza binária das conversões e a variabilidade específica das proporções, proporcionando uma análise mais precisa e relevante para este tipo de dados.\n",
        "\n",
        "Portanto, o uso do teste t de proporções permite uma avaliação mais adequada da significância estatística das diferenças observadas nas taxas de conversão entre os grupos de controle e experimental."
      ],
      "metadata": {
        "id": "7LsZq84fAE_R"
      }
    },
    {
      "cell_type": "code",
      "source": [
        "import pandas as pd\n",
        "import numpy as np\n",
        "from scipy import stats\n",
        "\n",
        "def teste_t_proporcao(df, grupo_controle, grupo_teste):\n",
        "    controle = df[df['Pagina'] == grupo_controle]\n",
        "    n1 = controle['Sessoes'].values[0]\n",
        "    x1 = controle['Conversoes'].values[0]\n",
        "\n",
        "    teste = df[df['Pagina'] == grupo_teste]\n",
        "    n2 = teste['Sessoes'].values[0]\n",
        "    x2 = teste['Conversoes'].values[0]\n",
        "\n",
        "    p1 = x1 / n1\n",
        "    p2 = x2 / n2\n",
        "\n",
        "    p_combinada = (x1 + x2) / (n1 + n2)\n",
        "\n",
        "    denominador = np.sqrt(p_combinada * (1 - p_combinada) * (1/n1 + 1/n2))\n",
        "\n",
        "    t_stat = (p1 - p2) / denominador\n",
        "\n",
        "    df = min(n1, n2) - 1\n",
        "\n",
        "    p_valor = 2 * (1 - stats.t.cdf(np.abs(t_stat), df))\n",
        "\n",
        "    return t_stat, p_valor\n",
        "\n",
        "grupo_controle = 'Controle'\n",
        "grupo_teste = 'Teste B - Grupo 3'\n",
        "\n",
        "t_stat, p_valor = teste_t_proporcao(dados, grupo_controle, grupo_teste)\n",
        "print(f\"Estatística t: {t_stat:.4f}\")\n",
        "print(f\"Valor p: {p_valor:.4f}\")\n",
        "\n",
        "alpha = 0.05\n",
        "if p_valor < alpha:\n",
        "    print('Rejeitamos a hipótese nula (as taxas de conversão dos grupos de controle e experimental são significativamente diferentes).')\n",
        "else:\n",
        "    print('Não rejeitamos a hipótese nula (não há diferença significativa nas taxas de conversão entre os grupos de controle e experimental).')\n"
      ],
      "metadata": {
        "colab": {
          "base_uri": "https://localhost:8080/"
        },
        "outputId": "cc65fba9-81d2-4e81-f8d1-0a7979f29dc1",
        "id": "puywzfABXYEz"
      },
      "execution_count": null,
      "outputs": [
        {
          "output_type": "stream",
          "name": "stdout",
          "text": [
            "Estatística t: 1.8323\n",
            "Valor p: 0.0676\n",
            "Não rejeitamos a hipótese nula (não há diferença significativa nas taxas de conversão entre os grupos de controle e experimental).\n"
          ]
        }
      ]
    },
    {
      "cell_type": "markdown",
      "source": [
        "### 6.2 Intervalo de confiança"
      ],
      "metadata": {
        "id": "ZB5HtXjyLoYD"
      }
    },
    {
      "cell_type": "markdown",
      "source": [
        "O intervalo de confiança é uma medida que estima a precisão das taxas de conversão observadas nos grupos de controle e experimental. Ele fornece uma faixa de valores que provavelmente contém a verdadeira taxa de conversão populacional, considerando a variação amostral. Para este relatório, utilizamos um intervalo de confiança de 95%."
      ],
      "metadata": {
        "id": "Mz5Szy-LLuss"
      }
    },
    {
      "cell_type": "code",
      "source": [
        "import pandas as pd\n",
        "import numpy as np\n",
        "from scipy import stats\n",
        "\n",
        "# Função para calcular intervalo de confiança para proporções\n",
        "def calc_intervalo_confianca(p, n, alpha=0.05):\n",
        "    z = stats.norm.ppf(1 - alpha/2)\n",
        "    margin_of_error = z * np.sqrt((p * (1 - p)) / n)\n",
        "    return (p - margin_of_error, p + margin_of_error)\n",
        "\n",
        "# Recriar o DataFrame a partir da imagem fornecida\n",
        "dados = pd.DataFrame({\n",
        "    'Pagina': ['Controle', 'Teste B - Grupo 1', 'Teste B - Grupo 2', 'Teste B - Grupo 3', 'Teste B - Grupo 4', 'Teste B - Grupo 5'],\n",
        "    'Sessoes': [6491, 460, 303, 443, 309, 278],\n",
        "    'Data_inicial': ['04/06/2024']*6,\n",
        "    'Data_final': ['11/06/2024']*6,\n",
        "    'Conversoes': [541, 28, 19, 26, 19, 15],\n",
        "    'taxa_conversao': [8.33, 6.09, 6.27, 5.87, 6.15, 5.40]\n",
        "})\n",
        "\n",
        "# Filtrar para os grupos de interesse\n",
        "dados_interesse = dados[dados['Pagina'].isin(['Controle', 'Teste B - Grupo 3'])]\n",
        "\n",
        "# Calculando intervalo de confiança para o grupo controle e o grupo 3\n",
        "intervalos_confianca = []\n",
        "for index, row in dados_interesse.iterrows():\n",
        "    p = row['taxa_conversao'] / 100\n",
        "    n = row['Sessoes']\n",
        "    intervalo = calc_intervalo_confianca(p, n)\n",
        "    intervalos_confianca.append(intervalo)\n",
        "\n",
        "dados_interesse['intervalo_confianca'] = intervalos_confianca\n",
        "\n",
        "# Formatando intervalos com menos casas decimais\n",
        "dados_interesse['intervalo_confianca'] = dados_interesse['intervalo_confianca'].apply(lambda x: (round(x[0]*100, 2), round(x[1]*100, 2)))\n",
        "\n",
        "print(dados_interesse[['Pagina', 'taxa_conversao', 'intervalo_confianca']])\n"
      ],
      "metadata": {
        "colab": {
          "base_uri": "https://localhost:8080/"
        },
        "id": "I_z2Q0wmMDCl",
        "outputId": "0813bf2b-f359-4be0-8485-f772dd515017"
      },
      "execution_count": null,
      "outputs": [
        {
          "output_type": "stream",
          "name": "stdout",
          "text": [
            "              Pagina  taxa_conversao intervalo_confianca\n",
            "0           Controle            8.33         (7.66, 9.0)\n",
            "3  Teste B - Grupo 3            5.87        (3.68, 8.06)\n"
          ]
        },
        {
          "output_type": "stream",
          "name": "stderr",
          "text": [
            "<ipython-input-63-e02a6cb3e85b>:32: SettingWithCopyWarning:\n",
            "\n",
            "\n",
            "A value is trying to be set on a copy of a slice from a DataFrame.\n",
            "Try using .loc[row_indexer,col_indexer] = value instead\n",
            "\n",
            "See the caveats in the documentation: https://pandas.pydata.org/pandas-docs/stable/user_guide/indexing.html#returning-a-view-versus-a-copy\n",
            "\n",
            "<ipython-input-63-e02a6cb3e85b>:35: SettingWithCopyWarning:\n",
            "\n",
            "\n",
            "A value is trying to be set on a copy of a slice from a DataFrame.\n",
            "Try using .loc[row_indexer,col_indexer] = value instead\n",
            "\n",
            "See the caveats in the documentation: https://pandas.pydata.org/pandas-docs/stable/user_guide/indexing.html#returning-a-view-versus-a-copy\n",
            "\n"
          ]
        }
      ]
    },
    {
      "cell_type": "markdown",
      "source": [
        "Os intervalos de confiança ajudam a entender a precisão das taxas de conversão estimadas e permitem comparar se as diferenças observadas entre os grupos de controle e experimental são estatisticamente significativas.\n",
        "\n",
        "Resultados:\n",
        "\n",
        "* **Grupo de Controle:** A taxa de conversão é de 8.33%, com um intervalo de confiança de [7.71%, 8.95%].\n",
        "\n",
        "* **Grupo Experimental 3:** A taxa de conversão é de 5.87%, com um intervalo de confiança de [4.14%, 7.60%]."
      ],
      "metadata": {
        "id": "Y7CrOZMyObpU"
      }
    },
    {
      "cell_type": "markdown",
      "source": [
        "### 6.3 Teste de Fisher"
      ],
      "metadata": {
        "id": "yP5XMrkYPhSE"
      }
    },
    {
      "cell_type": "markdown",
      "source": [
        "O Teste de Fisher é utilizado para determinar se há uma associação significativa entre duas variáveis categóricas em uma tabela de contingência. Ele é especialmente útil quando as amostras são pequenas. No contexto deste teste A/B, o Teste de Fisher foi aplicado para avaliar se a distribuição de conversões difere entre o grupo de controle e o grupo experimental 3.\n",
        "\n",
        "**Hipóteses:**\n",
        "\n",
        "* **Hipótese Nula (H0):** Não há associação entre o grupo (controle ou experimental) e a taxa de conversão (as proporções de conversões são iguais entre os grupos).\n",
        "* **Hipótese Alternativa (HA):** Existe uma associação entre o grupo (controle ou experimental) e a taxa de conversão (as proporções de conversões são diferentes entre os grupos)."
      ],
      "metadata": {
        "id": "b3XYv3PLP3zV"
      }
    },
    {
      "cell_type": "code",
      "source": [
        "import pandas as pd\n",
        "import numpy as np\n",
        "from scipy import stats\n",
        "\n",
        "def calc_intervalo_confianca(p, n, alpha=0.05):\n",
        "    z = stats.norm.ppf(1 - alpha/2)\n",
        "    margin_of_error = z * np.sqrt((p * (1 - p)) / n)\n",
        "    return (p - margin_of_error, p + margin_of_error)\n",
        "\n",
        "dados_interesse = dados[dados['Pagina'].isin(['Controle', 'Teste B - Grupo 3'])].copy()\n",
        "\n",
        "intervalos_confianca = []\n",
        "for index, row in dados_interesse.iterrows():\n",
        "    p = row['taxa_conversao'] / 100\n",
        "    n = row['Sessoes']\n",
        "    intervalo = calc_intervalo_confianca(p, n)\n",
        "    intervalos_confianca.append(intervalo)\n",
        "\n",
        "dados_interesse.loc[:, 'intervalo_confianca'] = intervalos_confianca\n",
        "\n",
        "dados_interesse.loc[:, 'intervalo_confianca'] = dados_interesse['intervalo_confianca'].apply(lambda x: (round(x[0]*100, 2), round(x[1]*100, 2)))\n",
        "\n",
        "print(dados_interesse[['Pagina', 'taxa_conversao', 'intervalo_confianca']])\n",
        "\n",
        "tabela_fisher = pd.DataFrame({\n",
        "    'Conversoes': [dados_interesse[dados_interesse['Pagina'] == 'Controle']['Conversoes'].values[0],\n",
        "                   dados_interesse[dados_interesse['Pagina'] == 'Teste B - Grupo 3']['Conversoes'].values[0]],\n",
        "    'Nao_Conversoes': [dados_interesse[dados_interesse['Pagina'] == 'Controle']['Sessoes'].values[0] - dados_interesse[dados_interesse['Pagina'] == 'Controle']['Conversoes'].values[0],\n",
        "                       dados_interesse[dados_interesse['Pagina'] == 'Teste B - Grupo 3']['Sessoes'].values[0] - dados_interesse[dados_interesse['Pagina'] == 'Teste B - Grupo 3']['Conversoes'].values[0]]\n",
        "}, index=['Controle', 'Teste B - Grupo 3'])\n",
        "\n",
        "oddsratio, p_value = stats.fisher_exact(tabela_fisher)\n",
        "print(f\"Razão de Chances: {oddsratio:.4f}\")\n",
        "print(f\"Valor p: {p_value:.4f}\")\n"
      ],
      "metadata": {
        "colab": {
          "base_uri": "https://localhost:8080/"
        },
        "id": "K-ipNAezPjmz",
        "outputId": "1de2a3f3-8239-4867-d168-a7f54a7b97b7"
      },
      "execution_count": null,
      "outputs": [
        {
          "output_type": "stream",
          "name": "stdout",
          "text": [
            "              Pagina  taxa_conversao intervalo_confianca\n",
            "0           Controle            8.33         (7.66, 9.0)\n",
            "3  Teste B - Grupo 3            5.87        (3.68, 8.06)\n",
            "Razão de Chances: 1.4583\n",
            "Valor p: 0.0726\n"
          ]
        }
      ]
    },
    {
      "cell_type": "markdown",
      "source": [
        "Resultados:\n",
        "\n",
        "* *Grupo de controle:* A taxa de conversão é de 8.33%, com um intervalo de confiança de [7.66%, 9.00%].\n",
        "\n",
        "* *Grupo experimental 3:* A taxa de conversão é de 5.87%, com um intervalo de confiança de [3.68%, 8.06%].\n",
        "\n",
        "* *Razão de chances:* 1.4583, indicando que a chance de conversão no grupo experimental é aproximadamente 1.46 vezes a do grupo de controle.\n",
        "\n",
        "* *Valor p*: 0.0726. Como o valor p é maior que 0.05, não rejeitamos a hipótese nula. Isso sugere que não há evidência suficiente para afirmar que as proporções de conversões diferem significativamente entre os grupos de controle e experimental."
      ],
      "metadata": {
        "id": "2bStM0o8QHUY"
      }
    },
    {
      "cell_type": "markdown",
      "source": [
        "Os resultados do Teste de Fisher indicam que, embora a razão de chances sugira que a chance de conversão no grupo experimental seja 1.46 vezes a do grupo de controle, o valor p (0.0726) não é suficientemente baixo para rejeitar a hipótese nula. Portanto, não há evidência estatística suficiente para afirmar que as proporções de conversões diferem significativamente entre os grupos de controle e experimental."
      ],
      "metadata": {
        "id": "RDwCxZy_QnSt"
      }
    },
    {
      "cell_type": "markdown",
      "source": [
        "## 7. Análise dos resultados"
      ],
      "metadata": {
        "id": "Kwd4t8nbXYE1"
      }
    },
    {
      "cell_type": "markdown",
      "source": [
        "### 7.1 Visualização dos resultados"
      ],
      "metadata": {
        "id": "V8U7pY-PXYE1"
      }
    },
    {
      "cell_type": "code",
      "source": [
        "import plotly.graph_objects as go\n",
        "from plotly.subplots import make_subplots\n",
        "\n",
        "fig = make_subplots(rows=3, cols=1, shared_xaxes=True,\n",
        "                    vertical_spacing=0.1, subplot_titles=(\"Sessões por Página\", \"Conversões por Página\", \"Taxa de Conversão por Página\"))\n",
        "\n",
        "fig.add_trace(go.Scatter(x=dados['Pagina'], y=dados['Sessoes'], mode='lines+markers', name='Sessões'), row=1, col=1)\n",
        "\n",
        "fig.add_trace(go.Scatter(x=dados['Pagina'], y=dados['Conversoes'], mode='lines+markers', name='Conversões'), row=2, col=1)\n",
        "\n",
        "fig.add_trace(go.Scatter(x=dados['Pagina'], y=dados['taxa_conversao'], mode='lines+markers', name='Taxa de Conversão (%)'), row=3, col=1)\n",
        "\n",
        "fig.update_layout(height=800, width=800, title_text=\"Resultados do Teste A/B\")\n",
        "\n",
        "fig.show()"
      ],
      "metadata": {
        "colab": {
          "base_uri": "https://localhost:8080/",
          "height": 817
        },
        "id": "88GKcRztCGEU",
        "outputId": "4b3bc8a4-3db0-494d-c599-f3126686a9a3"
      },
      "execution_count": null,
      "outputs": [
        {
          "output_type": "display_data",
          "data": {
            "text/html": [
              "<html>\n",
              "<head><meta charset=\"utf-8\" /></head>\n",
              "<body>\n",
              "    <div>            <script src=\"https://cdnjs.cloudflare.com/ajax/libs/mathjax/2.7.5/MathJax.js?config=TeX-AMS-MML_SVG\"></script><script type=\"text/javascript\">if (window.MathJax && window.MathJax.Hub && window.MathJax.Hub.Config) {window.MathJax.Hub.Config({SVG: {font: \"STIX-Web\"}});}</script>                <script type=\"text/javascript\">window.PlotlyConfig = {MathJaxConfig: 'local'};</script>\n",
              "        <script charset=\"utf-8\" src=\"https://cdn.plot.ly/plotly-2.24.1.min.js\"></script>                <div id=\"7be30575-e4f5-4a33-b6af-e7c6e7c6ec73\" class=\"plotly-graph-div\" style=\"height:800px; width:800px;\"></div>            <script type=\"text/javascript\">                                    window.PLOTLYENV=window.PLOTLYENV || {};                                    if (document.getElementById(\"7be30575-e4f5-4a33-b6af-e7c6e7c6ec73\")) {                    Plotly.newPlot(                        \"7be30575-e4f5-4a33-b6af-e7c6e7c6ec73\",                        [{\"mode\":\"lines+markers\",\"name\":\"Sess\\u00f5es\",\"x\":[\"Controle\",\"Teste B - Grupo 1\",\"Teste B - Grupo 2\",\"Teste B - Grupo 3\",\"Teste B - Grupo 4\",\"Teste B - Grupo 5\"],\"y\":[6491,460,303,443,309,278],\"type\":\"scatter\",\"xaxis\":\"x\",\"yaxis\":\"y\"},{\"mode\":\"lines+markers\",\"name\":\"Convers\\u00f5es\",\"x\":[\"Controle\",\"Teste B - Grupo 1\",\"Teste B - Grupo 2\",\"Teste B - Grupo 3\",\"Teste B - Grupo 4\",\"Teste B - Grupo 5\"],\"y\":[541,28,19,26,19,15],\"type\":\"scatter\",\"xaxis\":\"x2\",\"yaxis\":\"y2\"},{\"mode\":\"lines+markers\",\"name\":\"Taxa de Convers\\u00e3o (%)\",\"x\":[\"Controle\",\"Teste B - Grupo 1\",\"Teste B - Grupo 2\",\"Teste B - Grupo 3\",\"Teste B - Grupo 4\",\"Teste B - Grupo 5\"],\"y\":[8.33,6.09,6.27,5.87,6.15,5.4],\"type\":\"scatter\",\"xaxis\":\"x3\",\"yaxis\":\"y3\"}],                        {\"template\":{\"data\":{\"histogram2dcontour\":[{\"type\":\"histogram2dcontour\",\"colorbar\":{\"outlinewidth\":0,\"ticks\":\"\"},\"colorscale\":[[0.0,\"#0d0887\"],[0.1111111111111111,\"#46039f\"],[0.2222222222222222,\"#7201a8\"],[0.3333333333333333,\"#9c179e\"],[0.4444444444444444,\"#bd3786\"],[0.5555555555555556,\"#d8576b\"],[0.6666666666666666,\"#ed7953\"],[0.7777777777777778,\"#fb9f3a\"],[0.8888888888888888,\"#fdca26\"],[1.0,\"#f0f921\"]]}],\"choropleth\":[{\"type\":\"choropleth\",\"colorbar\":{\"outlinewidth\":0,\"ticks\":\"\"}}],\"histogram2d\":[{\"type\":\"histogram2d\",\"colorbar\":{\"outlinewidth\":0,\"ticks\":\"\"},\"colorscale\":[[0.0,\"#0d0887\"],[0.1111111111111111,\"#46039f\"],[0.2222222222222222,\"#7201a8\"],[0.3333333333333333,\"#9c179e\"],[0.4444444444444444,\"#bd3786\"],[0.5555555555555556,\"#d8576b\"],[0.6666666666666666,\"#ed7953\"],[0.7777777777777778,\"#fb9f3a\"],[0.8888888888888888,\"#fdca26\"],[1.0,\"#f0f921\"]]}],\"heatmap\":[{\"type\":\"heatmap\",\"colorbar\":{\"outlinewidth\":0,\"ticks\":\"\"},\"colorscale\":[[0.0,\"#0d0887\"],[0.1111111111111111,\"#46039f\"],[0.2222222222222222,\"#7201a8\"],[0.3333333333333333,\"#9c179e\"],[0.4444444444444444,\"#bd3786\"],[0.5555555555555556,\"#d8576b\"],[0.6666666666666666,\"#ed7953\"],[0.7777777777777778,\"#fb9f3a\"],[0.8888888888888888,\"#fdca26\"],[1.0,\"#f0f921\"]]}],\"heatmapgl\":[{\"type\":\"heatmapgl\",\"colorbar\":{\"outlinewidth\":0,\"ticks\":\"\"},\"colorscale\":[[0.0,\"#0d0887\"],[0.1111111111111111,\"#46039f\"],[0.2222222222222222,\"#7201a8\"],[0.3333333333333333,\"#9c179e\"],[0.4444444444444444,\"#bd3786\"],[0.5555555555555556,\"#d8576b\"],[0.6666666666666666,\"#ed7953\"],[0.7777777777777778,\"#fb9f3a\"],[0.8888888888888888,\"#fdca26\"],[1.0,\"#f0f921\"]]}],\"contourcarpet\":[{\"type\":\"contourcarpet\",\"colorbar\":{\"outlinewidth\":0,\"ticks\":\"\"}}],\"contour\":[{\"type\":\"contour\",\"colorbar\":{\"outlinewidth\":0,\"ticks\":\"\"},\"colorscale\":[[0.0,\"#0d0887\"],[0.1111111111111111,\"#46039f\"],[0.2222222222222222,\"#7201a8\"],[0.3333333333333333,\"#9c179e\"],[0.4444444444444444,\"#bd3786\"],[0.5555555555555556,\"#d8576b\"],[0.6666666666666666,\"#ed7953\"],[0.7777777777777778,\"#fb9f3a\"],[0.8888888888888888,\"#fdca26\"],[1.0,\"#f0f921\"]]}],\"surface\":[{\"type\":\"surface\",\"colorbar\":{\"outlinewidth\":0,\"ticks\":\"\"},\"colorscale\":[[0.0,\"#0d0887\"],[0.1111111111111111,\"#46039f\"],[0.2222222222222222,\"#7201a8\"],[0.3333333333333333,\"#9c179e\"],[0.4444444444444444,\"#bd3786\"],[0.5555555555555556,\"#d8576b\"],[0.6666666666666666,\"#ed7953\"],[0.7777777777777778,\"#fb9f3a\"],[0.8888888888888888,\"#fdca26\"],[1.0,\"#f0f921\"]]}],\"mesh3d\":[{\"type\":\"mesh3d\",\"colorbar\":{\"outlinewidth\":0,\"ticks\":\"\"}}],\"scatter\":[{\"fillpattern\":{\"fillmode\":\"overlay\",\"size\":10,\"solidity\":0.2},\"type\":\"scatter\"}],\"parcoords\":[{\"type\":\"parcoords\",\"line\":{\"colorbar\":{\"outlinewidth\":0,\"ticks\":\"\"}}}],\"scatterpolargl\":[{\"type\":\"scatterpolargl\",\"marker\":{\"colorbar\":{\"outlinewidth\":0,\"ticks\":\"\"}}}],\"bar\":[{\"error_x\":{\"color\":\"#2a3f5f\"},\"error_y\":{\"color\":\"#2a3f5f\"},\"marker\":{\"line\":{\"color\":\"#E5ECF6\",\"width\":0.5},\"pattern\":{\"fillmode\":\"overlay\",\"size\":10,\"solidity\":0.2}},\"type\":\"bar\"}],\"scattergeo\":[{\"type\":\"scattergeo\",\"marker\":{\"colorbar\":{\"outlinewidth\":0,\"ticks\":\"\"}}}],\"scatterpolar\":[{\"type\":\"scatterpolar\",\"marker\":{\"colorbar\":{\"outlinewidth\":0,\"ticks\":\"\"}}}],\"histogram\":[{\"marker\":{\"pattern\":{\"fillmode\":\"overlay\",\"size\":10,\"solidity\":0.2}},\"type\":\"histogram\"}],\"scattergl\":[{\"type\":\"scattergl\",\"marker\":{\"colorbar\":{\"outlinewidth\":0,\"ticks\":\"\"}}}],\"scatter3d\":[{\"type\":\"scatter3d\",\"line\":{\"colorbar\":{\"outlinewidth\":0,\"ticks\":\"\"}},\"marker\":{\"colorbar\":{\"outlinewidth\":0,\"ticks\":\"\"}}}],\"scattermapbox\":[{\"type\":\"scattermapbox\",\"marker\":{\"colorbar\":{\"outlinewidth\":0,\"ticks\":\"\"}}}],\"scatterternary\":[{\"type\":\"scatterternary\",\"marker\":{\"colorbar\":{\"outlinewidth\":0,\"ticks\":\"\"}}}],\"scattercarpet\":[{\"type\":\"scattercarpet\",\"marker\":{\"colorbar\":{\"outlinewidth\":0,\"ticks\":\"\"}}}],\"carpet\":[{\"aaxis\":{\"endlinecolor\":\"#2a3f5f\",\"gridcolor\":\"white\",\"linecolor\":\"white\",\"minorgridcolor\":\"white\",\"startlinecolor\":\"#2a3f5f\"},\"baxis\":{\"endlinecolor\":\"#2a3f5f\",\"gridcolor\":\"white\",\"linecolor\":\"white\",\"minorgridcolor\":\"white\",\"startlinecolor\":\"#2a3f5f\"},\"type\":\"carpet\"}],\"table\":[{\"cells\":{\"fill\":{\"color\":\"#EBF0F8\"},\"line\":{\"color\":\"white\"}},\"header\":{\"fill\":{\"color\":\"#C8D4E3\"},\"line\":{\"color\":\"white\"}},\"type\":\"table\"}],\"barpolar\":[{\"marker\":{\"line\":{\"color\":\"#E5ECF6\",\"width\":0.5},\"pattern\":{\"fillmode\":\"overlay\",\"size\":10,\"solidity\":0.2}},\"type\":\"barpolar\"}],\"pie\":[{\"automargin\":true,\"type\":\"pie\"}]},\"layout\":{\"autotypenumbers\":\"strict\",\"colorway\":[\"#636efa\",\"#EF553B\",\"#00cc96\",\"#ab63fa\",\"#FFA15A\",\"#19d3f3\",\"#FF6692\",\"#B6E880\",\"#FF97FF\",\"#FECB52\"],\"font\":{\"color\":\"#2a3f5f\"},\"hovermode\":\"closest\",\"hoverlabel\":{\"align\":\"left\"},\"paper_bgcolor\":\"white\",\"plot_bgcolor\":\"#E5ECF6\",\"polar\":{\"bgcolor\":\"#E5ECF6\",\"angularaxis\":{\"gridcolor\":\"white\",\"linecolor\":\"white\",\"ticks\":\"\"},\"radialaxis\":{\"gridcolor\":\"white\",\"linecolor\":\"white\",\"ticks\":\"\"}},\"ternary\":{\"bgcolor\":\"#E5ECF6\",\"aaxis\":{\"gridcolor\":\"white\",\"linecolor\":\"white\",\"ticks\":\"\"},\"baxis\":{\"gridcolor\":\"white\",\"linecolor\":\"white\",\"ticks\":\"\"},\"caxis\":{\"gridcolor\":\"white\",\"linecolor\":\"white\",\"ticks\":\"\"}},\"coloraxis\":{\"colorbar\":{\"outlinewidth\":0,\"ticks\":\"\"}},\"colorscale\":{\"sequential\":[[0.0,\"#0d0887\"],[0.1111111111111111,\"#46039f\"],[0.2222222222222222,\"#7201a8\"],[0.3333333333333333,\"#9c179e\"],[0.4444444444444444,\"#bd3786\"],[0.5555555555555556,\"#d8576b\"],[0.6666666666666666,\"#ed7953\"],[0.7777777777777778,\"#fb9f3a\"],[0.8888888888888888,\"#fdca26\"],[1.0,\"#f0f921\"]],\"sequentialminus\":[[0.0,\"#0d0887\"],[0.1111111111111111,\"#46039f\"],[0.2222222222222222,\"#7201a8\"],[0.3333333333333333,\"#9c179e\"],[0.4444444444444444,\"#bd3786\"],[0.5555555555555556,\"#d8576b\"],[0.6666666666666666,\"#ed7953\"],[0.7777777777777778,\"#fb9f3a\"],[0.8888888888888888,\"#fdca26\"],[1.0,\"#f0f921\"]],\"diverging\":[[0,\"#8e0152\"],[0.1,\"#c51b7d\"],[0.2,\"#de77ae\"],[0.3,\"#f1b6da\"],[0.4,\"#fde0ef\"],[0.5,\"#f7f7f7\"],[0.6,\"#e6f5d0\"],[0.7,\"#b8e186\"],[0.8,\"#7fbc41\"],[0.9,\"#4d9221\"],[1,\"#276419\"]]},\"xaxis\":{\"gridcolor\":\"white\",\"linecolor\":\"white\",\"ticks\":\"\",\"title\":{\"standoff\":15},\"zerolinecolor\":\"white\",\"automargin\":true,\"zerolinewidth\":2},\"yaxis\":{\"gridcolor\":\"white\",\"linecolor\":\"white\",\"ticks\":\"\",\"title\":{\"standoff\":15},\"zerolinecolor\":\"white\",\"automargin\":true,\"zerolinewidth\":2},\"scene\":{\"xaxis\":{\"backgroundcolor\":\"#E5ECF6\",\"gridcolor\":\"white\",\"linecolor\":\"white\",\"showbackground\":true,\"ticks\":\"\",\"zerolinecolor\":\"white\",\"gridwidth\":2},\"yaxis\":{\"backgroundcolor\":\"#E5ECF6\",\"gridcolor\":\"white\",\"linecolor\":\"white\",\"showbackground\":true,\"ticks\":\"\",\"zerolinecolor\":\"white\",\"gridwidth\":2},\"zaxis\":{\"backgroundcolor\":\"#E5ECF6\",\"gridcolor\":\"white\",\"linecolor\":\"white\",\"showbackground\":true,\"ticks\":\"\",\"zerolinecolor\":\"white\",\"gridwidth\":2}},\"shapedefaults\":{\"line\":{\"color\":\"#2a3f5f\"}},\"annotationdefaults\":{\"arrowcolor\":\"#2a3f5f\",\"arrowhead\":0,\"arrowwidth\":1},\"geo\":{\"bgcolor\":\"white\",\"landcolor\":\"#E5ECF6\",\"subunitcolor\":\"white\",\"showland\":true,\"showlakes\":true,\"lakecolor\":\"white\"},\"title\":{\"x\":0.05},\"mapbox\":{\"style\":\"light\"}}},\"xaxis\":{\"anchor\":\"y\",\"domain\":[0.0,1.0],\"matches\":\"x3\",\"showticklabels\":false},\"yaxis\":{\"anchor\":\"x\",\"domain\":[0.7333333333333334,1.0]},\"xaxis2\":{\"anchor\":\"y2\",\"domain\":[0.0,1.0],\"matches\":\"x3\",\"showticklabels\":false},\"yaxis2\":{\"anchor\":\"x2\",\"domain\":[0.3666666666666667,0.6333333333333333]},\"xaxis3\":{\"anchor\":\"y3\",\"domain\":[0.0,1.0]},\"yaxis3\":{\"anchor\":\"x3\",\"domain\":[0.0,0.26666666666666666]},\"annotations\":[{\"font\":{\"size\":16},\"showarrow\":false,\"text\":\"Sess\\u00f5es por P\\u00e1gina\",\"x\":0.5,\"xanchor\":\"center\",\"xref\":\"paper\",\"y\":1.0,\"yanchor\":\"bottom\",\"yref\":\"paper\"},{\"font\":{\"size\":16},\"showarrow\":false,\"text\":\"Convers\\u00f5es por P\\u00e1gina\",\"x\":0.5,\"xanchor\":\"center\",\"xref\":\"paper\",\"y\":0.6333333333333333,\"yanchor\":\"bottom\",\"yref\":\"paper\"},{\"font\":{\"size\":16},\"showarrow\":false,\"text\":\"Taxa de Convers\\u00e3o por P\\u00e1gina\",\"x\":0.5,\"xanchor\":\"center\",\"xref\":\"paper\",\"y\":0.26666666666666666,\"yanchor\":\"bottom\",\"yref\":\"paper\"}],\"title\":{\"text\":\"Resultados do Teste A\\u002fB\"},\"height\":800,\"width\":800},                        {\"responsive\": true}                    ).then(function(){\n",
              "                            \n",
              "var gd = document.getElementById('7be30575-e4f5-4a33-b6af-e7c6e7c6ec73');\n",
              "var x = new MutationObserver(function (mutations, observer) {{\n",
              "        var display = window.getComputedStyle(gd).display;\n",
              "        if (!display || display === 'none') {{\n",
              "            console.log([gd, 'removed!']);\n",
              "            Plotly.purge(gd);\n",
              "            observer.disconnect();\n",
              "        }}\n",
              "}});\n",
              "\n",
              "// Listen for the removal of the full notebook cells\n",
              "var notebookContainer = gd.closest('#notebook-container');\n",
              "if (notebookContainer) {{\n",
              "    x.observe(notebookContainer, {childList: true});\n",
              "}}\n",
              "\n",
              "// Listen for the clearing of the current output cell\n",
              "var outputEl = gd.closest('.output');\n",
              "if (outputEl) {{\n",
              "    x.observe(outputEl, {childList: true});\n",
              "}}\n",
              "\n",
              "                        })                };                            </script>        </div>\n",
              "</body>\n",
              "</html>"
            ]
          },
          "metadata": {}
        }
      ]
    },
    {
      "cell_type": "markdown",
      "source": [
        "### 7.2 Intepretação dos resultados"
      ],
      "metadata": {
        "id": "D_SoU-MjXYE1"
      }
    },
    {
      "cell_type": "markdown",
      "source": [
        "#### **Resultados do Teste t**\n",
        "\n",
        "* ***t-statistic:*** *1.8323*\n",
        "* ***p-value:*** *0.0676*\n",
        "\n",
        "**1. t-statistic:** Este valor indica a magnitude da diferença entre as proporções das taxas de conversão dos grupos de controle e experimental em unidades de erro padrão. Um valor de 1.83 sugere que há uma diferença moderada entre as proporções das taxas de conversão.\n",
        "\n",
        "**2. p-value:** Este valor indica a probabilidade de observar uma diferença tão grande (ou maior) entre as proporções das taxas de conversão dos grupos de controle e experimental se a hipótese nula fosse verdadeira (isto é, se não houvesse diferença real entre as proporções).\n",
        "\n",
        "\n",
        "Como o p-value (0.0676) é maior que o nível de significância (α = 0.05), não rejeitamos a hipótese nula. Isso significa que não há evidências estatísticas de que as taxas de conversão dos grupos de controle e experimental são diferentes. Em outras palavras, a alteração na página (proposta B do teste A/B) não resultou em uma diferença significativa na taxa de conversão em comparação com o controle. Portanto, qualquer diferença observada pode ser atribuída ao acaso.\n",
        "\n"
      ],
      "metadata": {
        "id": "FwpWkok1XYE1"
      }
    },
    {
      "cell_type": "markdown",
      "source": [
        "#### **Intervalo de confiança**\n",
        "\n",
        "* **Grupo de controle**: A taxa de conversão é de 8.33%, com um intervalo de confiança de [7.66%, 9.00%].\n",
        "\n",
        "* **Grupo Experimental 3:** A taxa de conversão é de 5.87%, com um intervalo de confiança de [3.68%, 8.06%].\n",
        "\n",
        "Os intervalos de confiança mostram que, embora a taxa de conversão do grupo experimental 3 seja menor que a do grupo de controle, as faixas de confiança se sobrepõem consideravelmente. Isso indica que a variação observada nas taxas de conversão pode ser atribuída à variação amostral, e não há uma diferença estatisticamente significativa entre os grupos."
      ],
      "metadata": {
        "id": "4TNuWeKIS2jE"
      }
    },
    {
      "cell_type": "markdown",
      "source": [
        "#### **Resultados do Teste de Fisher**\n",
        "\n",
        "**Razão de chances:** 1.4583, indicando que a chance de conversão no grupo experimental é aproximadamente 1.46 vezes a do grupo de controle.\n",
        "\n",
        "**Valor p**: 0.0726\n",
        "\n",
        "O Teste de Fisher reforça a conclusão de que não há uma diferença estatisticamente significativa entre as taxas de conversão dos grupos de controle e experimental. Embora a razão de chances sugira uma maior probabilidade de conversão no grupo experimental, o p-value de 0.0726 é maior que o nível de significância de 0.05, indicando que a diferença observada não é estatisticamente significativa."
      ],
      "metadata": {
        "id": "B2Ty9ftSS5a1"
      }
    },
    {
      "cell_type": "markdown",
      "source": [
        "#### **Conclusão da interpretação:**\n",
        "\n",
        "Os resultados dos testes estatísticos - incluindo o teste t e o Teste de Fisher - demonstram que as alterações implementadas na página do grupo experimental (proposta B) não resultaram em uma diferença significativa na taxa de conversão em comparação com o grupo de controle. Apesar das melhorias visuais e de navegação, como o reposicionamento do formulário, a adição de ícones representativos e a ampliação da imagem promocional, as mudanças não tiveram o impacto esperado na conversão de visitantes em leads.\n",
        "\n",
        "Portanto, a análise sugere que as modificações não proporcionaram um aumento significativo na taxa de conversão e que qualquer diferença observada pode ser atribuída ao acaso. É recomendável revisar as mudanças propostas e considerar outras abordagens ou melhorias para atingir os objetivos desejados de aumento da taxa de conversão."
      ],
      "metadata": {
        "id": "1u9gviNyS9FX"
      }
    },
    {
      "cell_type": "markdown",
      "source": [
        "## 8. Limitações"
      ],
      "metadata": {
        "id": "6Q28sTUaXYE2"
      }
    },
    {
      "cell_type": "markdown",
      "source": [
        "O teste A/B realizado para a otimização da página da Wizard apresentou diversas limitações que precisam ser cuidadosamente consideradas para uma avaliação precisa dos resultados. Primeiramente, o período de teste foi relativamente curto, durando apenas uma semana. Essa brevidade pode não ter sido suficiente para capturar uma amostra representativa e consistente do comportamento dos usuários. Em períodos tão curtos, flutuações sazonais ou eventos específicos podem influenciar os resultados, comprometendo a generalização dos achados."
      ],
      "metadata": {
        "id": "l78g8kGzXYE2"
      }
    },
    {
      "cell_type": "markdown",
      "source": [
        "\n",
        "Outra limitação significativa foi a pequena amostra de usuários exposta às alterações na página B. A proporção limitada de participantes no grupo experimental afetou a significância estatística dos resultados, dificultando a detecção de diferenças significativas entre os grupos de controle e experimental. Com uma amostra reduzida, é mais difícil obter resultados conclusivos sobre a eficácia das mudanças implementadas."
      ],
      "metadata": {
        "id": "5gfYPP2ZGvqK"
      }
    },
    {
      "cell_type": "markdown",
      "source": [
        "Além disso, foram implementadas diversas mudanças simultâneas na página B, incluindo o reposicionamento do formulário, a adição de ícones representativos e a ampliação da imagem promocional. Embora essas alterações visassem melhorar a usabilidade e a estética, a multiplicidade de mudanças dificultou a identificação de quais modificações específicas tiveram impacto nas taxas de conversão. Essa abordagem múltipla impede uma análise clara sobre qual mudança foi realmente eficaz."
      ],
      "metadata": {
        "id": "l-ibkNAxGx1F"
      }
    },
    {
      "cell_type": "markdown",
      "source": [
        "Outro aspecto a ser considerado são as variações no contexto de uso, como diferentes dispositivos, horários de acesso e perfis de usuário. Estas variações podem influenciar significativamente a interação dos usuários com a página, e o teste realizado não levou em conta os dados obtidos a partir  dessas segmentações adicionais, tendo em vista que a Pearson não estruturou o Google Analytics para capturá-los nas páginas B's. Isso pode limitar a compreensão do comportamento dos usuários e das necessidades específicas de diferentes segmentos, além, é claro, do impacto da outra versão da página na usabilidade dos usuários."
      ],
      "metadata": {
        "id": "-N6z__uUG06N"
      }
    },
    {
      "cell_type": "markdown",
      "source": [
        "\n",
        "Por fim, a análise qualitativa não foi realizada, visto que todo esse relatório foi feito focando, principalmente, em métricas quantitativas, sem uma investigação profunda do feedback qualitativo dos usuários. Comentários e percepções dos usuários podem oferecer insights valiosos sobre a experiência e possíveis pontos de melhoria que não são capturados pelas métricas quantitativas."
      ],
      "metadata": {
        "id": "p9yRrU4oG3Wo"
      }
    },
    {
      "cell_type": "markdown",
      "source": [
        "Portanto, as principais limitações do teste A/B realizado incluem o período de teste curto, a pequena amostra de usuários no grupo experimental, a coleta de dados manual, a implementação de múltiplas mudanças simultâneas, a falta de segmentação no contexto de uso e a análise qualitativa limitada. Essas limitações devem ser levadas em consideração ao interpretar os resultados e ao planejar futuras otimizações."
      ],
      "metadata": {
        "id": "Ei086P1kG9kO"
      }
    },
    {
      "cell_type": "markdown",
      "source": [
        "## 9 Conclusão"
      ],
      "metadata": {
        "id": "iTlQoYGwXYE3"
      }
    },
    {
      "cell_type": "markdown",
      "source": [
        "### 9.1 Resumo dos achados"
      ],
      "metadata": {
        "id": "W-ekWt9kXYE4"
      }
    },
    {
      "cell_type": "markdown",
      "source": [
        "O teste A/B realizado para avaliar as alterações na página da Wizard teve como objetivo principal aumentar a taxa de conversão de leads em 7% e melhorar a qualidade dos leads capturados. Foram implementadas diversas modificações na página, incluindo o reposicionamento do formulário de inscrição para a segunda seção, a adição de ícones representativos dos produtos oferecidos e a ampliação da imagem promocional.\n",
        "\n",
        "No entanto, os resultados obtidos indicaram que essas mudanças não tiveram o impacto esperado. A análise estatística revelou uma estatística t de 1.8323 e um valor p de 0.0676, o que significa que não podemos rejeitar a hipótese nula. Portanto, não há evidências estatísticas de que as taxas de conversão dos grupos de controle e experimental são significativamente diferentes. Especificamente, a taxa de conversão do grupo experimental 3 foi de 5.87%, enquanto a do grupo de controle foi de 8.33%. Esses dados reforçam a conclusão de que as modificações implementadas não resultaram em um aumento significativo na taxa de conversão.\n",
        "\n",
        "O Teste de Fisher também corroborou esses resultados, com uma razão de chances de 1.4583 e um valor p de 0.0726, indicando que a diferença observada não é estatisticamente significativa. Embora a chance de conversão no grupo experimental pareça ser maior, a variação pode ser atribuída ao acaso."
      ],
      "metadata": {
        "id": "fGVreQ-QXYE4"
      }
    },
    {
      "cell_type": "markdown",
      "source": [
        "### 9.2 Recomendações"
      ],
      "metadata": {
        "id": "NzI4FC7GXYE4"
      }
    },
    {
      "cell_type": "markdown",
      "source": [
        "Diante dos resultados obtidos, é essencial adotar uma abordagem mais detalhada e criteriosa para futuras otimizações da página. Abaixo estão algumas recomendações específicas para a Pearson continuar implementando e aprimorando o teste A/B:\n",
        "\n",
        "1. **Extensão do período de teste:**\n",
        "   O período de uma semana é insuficiente para capturar uma amostra representativa do comportamento dos usuários. Recomenda-se estender o período de teste para pelo menos quatro semanas. Isso permitirá captar variações sazonais e comportamentais mais amplas, oferecendo dados mais robustos e representativos.\n",
        "\n",
        "2. **Aumento da amostra experimental:**\n",
        "   A pequena amostra de usuários no grupo experimental limitou a significância estatística dos resultados. Sugerimos aumentar a proporção de usuários expostos às alterações na página. Uma divisão de 50% para cada grupo (controle e experimental) pode proporcionar um equilíbrio melhor para detectar diferenças significativas. Alternativamente, garantir que pelo menos 20% dos visitantes sejam alocados ao grupo experimental pode ajudar a obter dados mais significativos.\n",
        "\n",
        "3. **Automatização da coleta de dados:**\n",
        "   A coleta manual de dados pode introduzir erros e inconsistências. Implementar sistemas automatizados para coleta e análise de dados, como Google Analytics, Mixpanel ou HubSpot, pode reduzir o risco de erros e aumentar a precisão dos insights derivados dos dados.\n",
        "\n",
        "4. **Abordagem iterativa de mudanças:**\n",
        "   Testar múltiplas mudanças simultaneamente dificultou a identificação do impacto individual de cada alteração. Recomenda-se adotar uma abordagem iterativa, testando uma mudança por vez. Isso permitirá isolar e identificar o efeito de cada alteração individualmente, começando com aquelas que teoricamente têm maior impacto na experiência do usuário e na taxa de conversão.\n",
        "\n",
        "5. **Segmentação adicional dos testes:**\n",
        "   Considerar variações no contexto de uso, como diferentes dispositivos (desktop vs. mobile), horários de acesso (diurno vs. noturno) e perfis de usuário. Realizar segmentações adicionais permitirá uma compreensão mais aprofundada do comportamento de diferentes grupos de usuários e adaptar a página para otimizar a conversão para cada segmento específico.\n",
        "\n",
        "6. **Integração de feedback qualitativo:**\n",
        "   Além das métricas quantitativas, é crucial coletar feedback qualitativo dos usuários. Utilizar ferramentas de feedback, como pesquisas de satisfação e testes de usabilidade, pode oferecer insights valiosos sobre a experiência do usuário que não são capturados pelas métricas quantitativas. Isso permitirá identificar áreas de melhoria e ajustar a página de acordo com as necessidades e preferências dos usuários.\n",
        "\n",
        "7. **Monitoramento contínuo e iterativo:**\n",
        "   Após implementar as mudanças recomendadas, é importante continuar monitorando e ajustando a página com base nos dados coletados. Um processo contínuo de teste e otimização assegura que a página permaneça eficaz e alinhada com as expectativas dos usuários. Realizar testes de acompanhamento para verificar se as mudanças estão mantendo o impacto positivo ao longo do tempo.\n",
        "\n",
        "Implementando essas recomendações, a Pearson poderá continuar otimizando a landing page de forma mais eficaz, melhorando a experiência do usuário e potencialmente aumentando as taxas de conversão de maneira sustentável. Essas ações não apenas contribuirão para alcançar os objetivos estabelecidos, mas também fortalecerão a capacidade da Wizard de competir no mercado educacional online, garantindo que a oferta de cursos atenda e supere as expectativas dos alunos."
      ],
      "metadata": {
        "id": "INIHMQI9XYE4"
      }
    }
  ]
}